{
 "metadata": {
  "language_info": {
   "codemirror_mode": {
    "name": "ipython",
    "version": 3
   },
   "file_extension": ".py",
   "mimetype": "text/x-python",
   "name": "python",
   "nbconvert_exporter": "python",
   "pygments_lexer": "ipython3",
   "version": "3.8.3"
  },
  "orig_nbformat": 2,
  "kernelspec": {
   "name": "python383jvsc74a57bd075a88bca18d42798bd43853615f6d8e1ba2122f998d1455de99fcbfb11fe8fcf",
   "display_name": "Python 3.8.3 64-bit (conda)"
  }
 },
 "nbformat": 4,
 "nbformat_minor": 2,
 "cells": [
  {
   "cell_type": "code",
   "execution_count": null,
   "metadata": {},
   "outputs": [],
   "source": [
    "import numpy as np # linear algebra\n",
    "import pandas as pd # data processing, CSV file I/O (e.g. pd.read_csv)\n",
    "import pandas_profiling\n",
    "import matplotlib.pyplot as plt\n",
    "import seaborn as sns"
   ]
  },
  {
   "cell_type": "code",
   "execution_count": 195,
   "metadata": {},
   "outputs": [],
   "source": [
    "from sklearn import tree\n",
    "from sklearn.ensemble import RandomForestClassifier, ExtraTreesClassifier\n",
    "from sklearn.impute import SimpleImputer\n",
    "from sklearn.metrics import accuracy_score\n",
    "from sklearn.metrics import roc_auc_score\n",
    "from sklearn.model_selection import train_test_split\n",
    "from sklearn.model_selection import KFold\n",
    "from sklearn.model_selection import GridSearchCV\n",
    "from sklearn.model_selection import RepeatedStratifiedKFold, cross_val_score\n",
    "from sklearn.model_selection import RandomizedSearchCV\n",
    "\n",
    "from sklearn.tree import DecisionTreeClassifier\n",
    "\n",
    "from sklearn.neighbors import KNeighborsClassifier\n",
    "\n",
    "from sklearn.naive_bayes import GaussianNB\n",
    "from sklearn.naive_bayes import MultinomialNB\n",
    "\n",
    "from sklearn.svm import SVC\n",
    "from sklearn.svm import NuSVC\n",
    "\n",
    "from sklearn.linear_model import SGDClassifier\n",
    "from sklearn.linear_model import LogisticRegression\n",
    "\n",
    "from sklearn.gaussian_process import GaussianProcessClassifier\n",
    "from sklearn.gaussian_process.kernels import RBF\n",
    "\n"
   ]
  },
  {
   "cell_type": "code",
   "execution_count": null,
   "metadata": {},
   "outputs": [],
   "source": [
    "data = pd.read_csv(\"C:\\REPOS\\Kaggle\\CongressionalVotingID.shuf.lrn.csv\",na_values=['unknown'])\n",
    "data.drop('ID',axis=1,inplace=True) #DROP ID\n",
    "data.replace(('y', 'n'), (1, 0), inplace=True) #Replace Y = 1 ; N = 0\n",
    "data.head() #Y = 1; N = 0; unknown = NaN"
   ]
  },
  {
   "cell_type": "code",
   "execution_count": null,
   "metadata": {},
   "outputs": [],
   "source": [
    "graphs = data.drop('class', axis=1).columns \n",
    "z = 0\n",
    "fig, axes = plt.subplots(4, 4, figsize=(30, 15))\n",
    "for i in range(4):\n",
    "    #graphs = np.where(y_train == i)[0] # seleciona as imagens de cada tipo para ser plotada no grafico.\n",
    "    for j in range(4):     \n",
    "        sns.countplot(x = graphs[z+j], hue='class', data=data, palette='BuPu', ax=axes[i][j])\n",
    "        axes[i][j].set_yticks([])\n",
    "    z = z + j + 1\n",
    "plt.show()"
   ]
  },
  {
   "cell_type": "code",
   "execution_count": null,
   "metadata": {},
   "outputs": [],
   "source": [
    "df = data.replace(('democrat', 'republican'), (0, 1), inplace=False)"
   ]
  },
  {
   "cell_type": "code",
   "execution_count": null,
   "metadata": {},
   "outputs": [],
   "source": [
    "#Creates Report dont RUN\n",
    "CongressionalVotes = pandas_profiling.ProfileReport(df)\n",
    "CongressionalVotes.to_file('CongressionalVotes.html')\n",
    "CongressionalVotes"
   ]
  },
  {
   "cell_type": "code",
   "execution_count": 196,
   "metadata": {},
   "outputs": [],
   "source": [
    "def evaluate_model(X, y, model):\n",
    "    K = 5\n",
    "    R = 3\n",
    "\n",
    "    cv = RepeatedStratifiedKFold(n_splits=K, n_repeats=R, random_state=1)\n",
    "    scores = cross_val_score(model, X, y, scoring='accuracy', cv=cv, n_jobs=1)\n",
    "    return scores\n",
    "\n",
    "def get_models():\n",
    "    models, names = list(), list()\n",
    "    \n",
    "    models.append(GaussianProcessClassifier(kernel = (1.0 * RBF(1.0))))\n",
    "    names.append('GPC')\n",
    "\n",
    "\n",
    "    # SVM\n",
    "    models.append(LogisticRegression())\n",
    "    names.append('LG')\n",
    "\n",
    "    models.append(DecisionTreeClassifier())\n",
    "    names.append('DT')\n",
    "\n",
    "    models.append(GaussianNB())\n",
    "    names.append('GNB')   \n",
    "\n",
    "    models.append(MultinomialNB())\n",
    "    names.append('MNB')   \n",
    "\n",
    "    models.append(SVC())\n",
    "    names.append('SVC')\n",
    "\n",
    "    models.append(NuSVC())\n",
    "    names.append('NuSVC')\n",
    "\n",
    "    models.append(SGDClassifier())\n",
    "    names.append('SGD')\n",
    "      \n",
    "    models.append(KNeighborsClassifier())\n",
    "    names.append('KNN')\n",
    "    \n",
    "    #models.append(RandomForestClassifier(n_estimators=1000))\n",
    "    #names.append('RF')\n",
    "    \n",
    "    #models.append(ExtraTreesClassifier(n_estimators=1000))\n",
    "    #names.append('ET')\n",
    "    \n",
    "    return models, names\n",
    "\n",
    "def evaluate(model, test_features, test_labels):\n",
    "    probs_votos = model.predict_proba(test_features)\n",
    "    accuracy = roc_auc_score(test_labels, probs_votos[:,1])\n",
    "    return accuracy"
   ]
  },
  {
   "cell_type": "code",
   "execution_count": 198,
   "metadata": {},
   "outputs": [
    {
     "output_type": "stream",
     "name": "stdout",
     "text": [
      "Model Mean Std\n",
      ">GPC 0.934 (0.032)\n",
      ">LG 0.937 (0.028)\n",
      ">DT 0.931 (0.040)\n",
      ">GNB 0.910 (0.041)\n",
      ">MNB 0.894 (0.043)\n",
      ">SVC 0.943 (0.026)\n",
      ">NuSVC 0.919 (0.037)\n",
      ">SGD 0.927 (0.036)\n",
      ">KNN 0.917 (0.039)\n"
     ]
    },
    {
     "output_type": "display_data",
     "data": {
      "text/plain": "<Figure size 432x288 with 1 Axes>",
      "image/svg+xml": "<?xml version=\"1.0\" encoding=\"utf-8\" standalone=\"no\"?>\r\n<!DOCTYPE svg PUBLIC \"-//W3C//DTD SVG 1.1//EN\"\r\n  \"http://www.w3.org/Graphics/SVG/1.1/DTD/svg11.dtd\">\r\n<!-- Created with matplotlib (https://matplotlib.org/) -->\r\n<svg height=\"248.518125pt\" version=\"1.1\" viewBox=\"0 0 384.828125 248.518125\" width=\"384.828125pt\" xmlns=\"http://www.w3.org/2000/svg\" xmlns:xlink=\"http://www.w3.org/1999/xlink\">\r\n <defs>\r\n  <style type=\"text/css\">\r\n*{stroke-linecap:butt;stroke-linejoin:round;}\r\n  </style>\r\n </defs>\r\n <g id=\"figure_1\">\r\n  <g id=\"patch_1\">\r\n   <path d=\"M 0 248.518125 \r\nL 384.828125 248.518125 \r\nL 384.828125 0 \r\nL 0 0 \r\nz\r\n\" style=\"fill:none;\"/>\r\n  </g>\r\n  <g id=\"axes_1\">\r\n   <g id=\"patch_2\">\r\n    <path d=\"M 42.828125 224.64 \r\nL 377.628125 224.64 \r\nL 377.628125 7.2 \r\nL 42.828125 7.2 \r\nz\r\n\" style=\"fill:#ffffff;\"/>\r\n   </g>\r\n   <g id=\"matplotlib.axis_1\">\r\n    <g id=\"xtick_1\">\r\n     <g id=\"line2d_1\">\r\n      <defs>\r\n       <path d=\"M 0 0 \r\nL 0 3.5 \r\n\" id=\"mbe9c6901d5\" style=\"stroke:#000000;stroke-width:0.8;\"/>\r\n      </defs>\r\n      <g>\r\n       <use style=\"stroke:#000000;stroke-width:0.8;\" x=\"61.428125\" xlink:href=\"#mbe9c6901d5\" y=\"224.64\"/>\r\n      </g>\r\n     </g>\r\n     <g id=\"text_1\">\r\n      <!-- GPC -->\r\n      <defs>\r\n       <path d=\"M 59.515625 10.40625 \r\nL 59.515625 29.984375 \r\nL 43.40625 29.984375 \r\nL 43.40625 38.09375 \r\nL 69.28125 38.09375 \r\nL 69.28125 6.78125 \r\nQ 63.578125 2.734375 56.6875 0.65625 \r\nQ 49.8125 -1.421875 42 -1.421875 \r\nQ 24.90625 -1.421875 15.25 8.5625 \r\nQ 5.609375 18.5625 5.609375 36.375 \r\nQ 5.609375 54.25 15.25 64.234375 \r\nQ 24.90625 74.21875 42 74.21875 \r\nQ 49.125 74.21875 55.546875 72.453125 \r\nQ 61.96875 70.703125 67.390625 67.28125 \r\nL 67.390625 56.78125 \r\nQ 61.921875 61.421875 55.765625 63.765625 \r\nQ 49.609375 66.109375 42.828125 66.109375 \r\nQ 29.4375 66.109375 22.71875 58.640625 \r\nQ 16.015625 51.171875 16.015625 36.375 \r\nQ 16.015625 21.625 22.71875 14.15625 \r\nQ 29.4375 6.6875 42.828125 6.6875 \r\nQ 48.046875 6.6875 52.140625 7.59375 \r\nQ 56.25 8.5 59.515625 10.40625 \r\nz\r\n\" id=\"DejaVuSans-71\"/>\r\n       <path d=\"M 19.671875 64.796875 \r\nL 19.671875 37.40625 \r\nL 32.078125 37.40625 \r\nQ 38.96875 37.40625 42.71875 40.96875 \r\nQ 46.484375 44.53125 46.484375 51.125 \r\nQ 46.484375 57.671875 42.71875 61.234375 \r\nQ 38.96875 64.796875 32.078125 64.796875 \r\nz\r\nM 9.8125 72.90625 \r\nL 32.078125 72.90625 \r\nQ 44.34375 72.90625 50.609375 67.359375 \r\nQ 56.890625 61.8125 56.890625 51.125 \r\nQ 56.890625 40.328125 50.609375 34.8125 \r\nQ 44.34375 29.296875 32.078125 29.296875 \r\nL 19.671875 29.296875 \r\nL 19.671875 0 \r\nL 9.8125 0 \r\nz\r\n\" id=\"DejaVuSans-80\"/>\r\n       <path d=\"M 64.40625 67.28125 \r\nL 64.40625 56.890625 \r\nQ 59.421875 61.53125 53.78125 63.8125 \r\nQ 48.140625 66.109375 41.796875 66.109375 \r\nQ 29.296875 66.109375 22.65625 58.46875 \r\nQ 16.015625 50.828125 16.015625 36.375 \r\nQ 16.015625 21.96875 22.65625 14.328125 \r\nQ 29.296875 6.6875 41.796875 6.6875 \r\nQ 48.140625 6.6875 53.78125 8.984375 \r\nQ 59.421875 11.28125 64.40625 15.921875 \r\nL 64.40625 5.609375 \r\nQ 59.234375 2.09375 53.4375 0.328125 \r\nQ 47.65625 -1.421875 41.21875 -1.421875 \r\nQ 24.65625 -1.421875 15.125 8.703125 \r\nQ 5.609375 18.84375 5.609375 36.375 \r\nQ 5.609375 53.953125 15.125 64.078125 \r\nQ 24.65625 74.21875 41.21875 74.21875 \r\nQ 47.75 74.21875 53.53125 72.484375 \r\nQ 59.328125 70.75 64.40625 67.28125 \r\nz\r\n\" id=\"DejaVuSans-67\"/>\r\n      </defs>\r\n      <g transform=\"translate(51.047656 239.238437)scale(0.1 -0.1)\">\r\n       <use xlink:href=\"#DejaVuSans-71\"/>\r\n       <use x=\"77.490234\" xlink:href=\"#DejaVuSans-80\"/>\r\n       <use x=\"137.792969\" xlink:href=\"#DejaVuSans-67\"/>\r\n      </g>\r\n     </g>\r\n    </g>\r\n    <g id=\"xtick_2\">\r\n     <g id=\"line2d_2\">\r\n      <g>\r\n       <use style=\"stroke:#000000;stroke-width:0.8;\" x=\"98.628125\" xlink:href=\"#mbe9c6901d5\" y=\"224.64\"/>\r\n      </g>\r\n     </g>\r\n     <g id=\"text_2\">\r\n      <!-- LG -->\r\n      <defs>\r\n       <path d=\"M 9.8125 72.90625 \r\nL 19.671875 72.90625 \r\nL 19.671875 8.296875 \r\nL 55.171875 8.296875 \r\nL 55.171875 0 \r\nL 9.8125 0 \r\nz\r\n\" id=\"DejaVuSans-76\"/>\r\n      </defs>\r\n      <g transform=\"translate(91.967969 239.238437)scale(0.1 -0.1)\">\r\n       <use xlink:href=\"#DejaVuSans-76\"/>\r\n       <use x=\"55.712891\" xlink:href=\"#DejaVuSans-71\"/>\r\n      </g>\r\n     </g>\r\n    </g>\r\n    <g id=\"xtick_3\">\r\n     <g id=\"line2d_3\">\r\n      <g>\r\n       <use style=\"stroke:#000000;stroke-width:0.8;\" x=\"135.828125\" xlink:href=\"#mbe9c6901d5\" y=\"224.64\"/>\r\n      </g>\r\n     </g>\r\n     <g id=\"text_3\">\r\n      <!-- DT -->\r\n      <defs>\r\n       <path d=\"M 19.671875 64.796875 \r\nL 19.671875 8.109375 \r\nL 31.59375 8.109375 \r\nQ 46.6875 8.109375 53.6875 14.9375 \r\nQ 60.6875 21.78125 60.6875 36.53125 \r\nQ 60.6875 51.171875 53.6875 57.984375 \r\nQ 46.6875 64.796875 31.59375 64.796875 \r\nz\r\nM 9.8125 72.90625 \r\nL 30.078125 72.90625 \r\nQ 51.265625 72.90625 61.171875 64.09375 \r\nQ 71.09375 55.28125 71.09375 36.53125 \r\nQ 71.09375 17.671875 61.125 8.828125 \r\nQ 51.171875 0 30.078125 0 \r\nL 9.8125 0 \r\nz\r\n\" id=\"DejaVuSans-68\"/>\r\n       <path d=\"M -0.296875 72.90625 \r\nL 61.375 72.90625 \r\nL 61.375 64.59375 \r\nL 35.5 64.59375 \r\nL 35.5 0 \r\nL 25.59375 0 \r\nL 25.59375 64.59375 \r\nL -0.296875 64.59375 \r\nz\r\n\" id=\"DejaVuSans-84\"/>\r\n      </defs>\r\n      <g transform=\"translate(128.924219 239.238437)scale(0.1 -0.1)\">\r\n       <use xlink:href=\"#DejaVuSans-68\"/>\r\n       <use x=\"77.001953\" xlink:href=\"#DejaVuSans-84\"/>\r\n      </g>\r\n     </g>\r\n    </g>\r\n    <g id=\"xtick_4\">\r\n     <g id=\"line2d_4\">\r\n      <g>\r\n       <use style=\"stroke:#000000;stroke-width:0.8;\" x=\"173.028125\" xlink:href=\"#mbe9c6901d5\" y=\"224.64\"/>\r\n      </g>\r\n     </g>\r\n     <g id=\"text_4\">\r\n      <!-- GNB -->\r\n      <defs>\r\n       <path d=\"M 9.8125 72.90625 \r\nL 23.09375 72.90625 \r\nL 55.421875 11.921875 \r\nL 55.421875 72.90625 \r\nL 64.984375 72.90625 \r\nL 64.984375 0 \r\nL 51.703125 0 \r\nL 19.390625 60.984375 \r\nL 19.390625 0 \r\nL 9.8125 0 \r\nz\r\n\" id=\"DejaVuSans-78\"/>\r\n       <path d=\"M 19.671875 34.8125 \r\nL 19.671875 8.109375 \r\nL 35.5 8.109375 \r\nQ 43.453125 8.109375 47.28125 11.40625 \r\nQ 51.125 14.703125 51.125 21.484375 \r\nQ 51.125 28.328125 47.28125 31.5625 \r\nQ 43.453125 34.8125 35.5 34.8125 \r\nz\r\nM 19.671875 64.796875 \r\nL 19.671875 42.828125 \r\nL 34.28125 42.828125 \r\nQ 41.5 42.828125 45.03125 45.53125 \r\nQ 48.578125 48.25 48.578125 53.8125 \r\nQ 48.578125 59.328125 45.03125 62.0625 \r\nQ 41.5 64.796875 34.28125 64.796875 \r\nz\r\nM 9.8125 72.90625 \r\nL 35.015625 72.90625 \r\nQ 46.296875 72.90625 52.390625 68.21875 \r\nQ 58.5 63.53125 58.5 54.890625 \r\nQ 58.5 48.1875 55.375 44.234375 \r\nQ 52.25 40.28125 46.1875 39.3125 \r\nQ 53.46875 37.75 57.5 32.78125 \r\nQ 61.53125 27.828125 61.53125 20.40625 \r\nQ 61.53125 10.640625 54.890625 5.3125 \r\nQ 48.25 0 35.984375 0 \r\nL 9.8125 0 \r\nz\r\n\" id=\"DejaVuSans-66\"/>\r\n      </defs>\r\n      <g transform=\"translate(161.982812 239.238437)scale(0.1 -0.1)\">\r\n       <use xlink:href=\"#DejaVuSans-71\"/>\r\n       <use x=\"77.490234\" xlink:href=\"#DejaVuSans-78\"/>\r\n       <use x=\"152.294922\" xlink:href=\"#DejaVuSans-66\"/>\r\n      </g>\r\n     </g>\r\n    </g>\r\n    <g id=\"xtick_5\">\r\n     <g id=\"line2d_5\">\r\n      <g>\r\n       <use style=\"stroke:#000000;stroke-width:0.8;\" x=\"210.228125\" xlink:href=\"#mbe9c6901d5\" y=\"224.64\"/>\r\n      </g>\r\n     </g>\r\n     <g id=\"text_5\">\r\n      <!-- MNB -->\r\n      <defs>\r\n       <path d=\"M 9.8125 72.90625 \r\nL 24.515625 72.90625 \r\nL 43.109375 23.296875 \r\nL 61.8125 72.90625 \r\nL 76.515625 72.90625 \r\nL 76.515625 0 \r\nL 66.890625 0 \r\nL 66.890625 64.015625 \r\nL 48.09375 14.015625 \r\nL 38.1875 14.015625 \r\nL 19.390625 64.015625 \r\nL 19.390625 0 \r\nL 9.8125 0 \r\nz\r\n\" id=\"DejaVuSans-77\"/>\r\n      </defs>\r\n      <g transform=\"translate(198.742969 239.238437)scale(0.1 -0.1)\">\r\n       <use xlink:href=\"#DejaVuSans-77\"/>\r\n       <use x=\"86.279297\" xlink:href=\"#DejaVuSans-78\"/>\r\n       <use x=\"161.083984\" xlink:href=\"#DejaVuSans-66\"/>\r\n      </g>\r\n     </g>\r\n    </g>\r\n    <g id=\"xtick_6\">\r\n     <g id=\"line2d_6\">\r\n      <g>\r\n       <use style=\"stroke:#000000;stroke-width:0.8;\" x=\"247.428125\" xlink:href=\"#mbe9c6901d5\" y=\"224.64\"/>\r\n      </g>\r\n     </g>\r\n     <g id=\"text_6\">\r\n      <!-- SVC -->\r\n      <defs>\r\n       <path d=\"M 53.515625 70.515625 \r\nL 53.515625 60.890625 \r\nQ 47.90625 63.578125 42.921875 64.890625 \r\nQ 37.9375 66.21875 33.296875 66.21875 \r\nQ 25.25 66.21875 20.875 63.09375 \r\nQ 16.5 59.96875 16.5 54.203125 \r\nQ 16.5 49.359375 19.40625 46.890625 \r\nQ 22.3125 44.4375 30.421875 42.921875 \r\nL 36.375 41.703125 \r\nQ 47.40625 39.59375 52.65625 34.296875 \r\nQ 57.90625 29 57.90625 20.125 \r\nQ 57.90625 9.515625 50.796875 4.046875 \r\nQ 43.703125 -1.421875 29.984375 -1.421875 \r\nQ 24.8125 -1.421875 18.96875 -0.25 \r\nQ 13.140625 0.921875 6.890625 3.21875 \r\nL 6.890625 13.375 \r\nQ 12.890625 10.015625 18.65625 8.296875 \r\nQ 24.421875 6.59375 29.984375 6.59375 \r\nQ 38.421875 6.59375 43.015625 9.90625 \r\nQ 47.609375 13.234375 47.609375 19.390625 \r\nQ 47.609375 24.75 44.3125 27.78125 \r\nQ 41.015625 30.8125 33.5 32.328125 \r\nL 27.484375 33.5 \r\nQ 16.453125 35.6875 11.515625 40.375 \r\nQ 6.59375 45.0625 6.59375 53.421875 \r\nQ 6.59375 63.09375 13.40625 68.65625 \r\nQ 20.21875 74.21875 32.171875 74.21875 \r\nQ 37.3125 74.21875 42.625 73.28125 \r\nQ 47.953125 72.359375 53.515625 70.515625 \r\nz\r\n\" id=\"DejaVuSans-83\"/>\r\n       <path d=\"M 28.609375 0 \r\nL 0.78125 72.90625 \r\nL 11.078125 72.90625 \r\nL 34.1875 11.53125 \r\nL 57.328125 72.90625 \r\nL 67.578125 72.90625 \r\nL 39.796875 0 \r\nz\r\n\" id=\"DejaVuSans-86\"/>\r\n      </defs>\r\n      <g transform=\"translate(237.342187 239.238437)scale(0.1 -0.1)\">\r\n       <use xlink:href=\"#DejaVuSans-83\"/>\r\n       <use x=\"63.476562\" xlink:href=\"#DejaVuSans-86\"/>\r\n       <use x=\"131.884766\" xlink:href=\"#DejaVuSans-67\"/>\r\n      </g>\r\n     </g>\r\n    </g>\r\n    <g id=\"xtick_7\">\r\n     <g id=\"line2d_7\">\r\n      <g>\r\n       <use style=\"stroke:#000000;stroke-width:0.8;\" x=\"284.628125\" xlink:href=\"#mbe9c6901d5\" y=\"224.64\"/>\r\n      </g>\r\n     </g>\r\n     <g id=\"text_7\">\r\n      <!-- NuSVC -->\r\n      <defs>\r\n       <path d=\"M 8.5 21.578125 \r\nL 8.5 54.6875 \r\nL 17.484375 54.6875 \r\nL 17.484375 21.921875 \r\nQ 17.484375 14.15625 20.5 10.265625 \r\nQ 23.53125 6.390625 29.59375 6.390625 \r\nQ 36.859375 6.390625 41.078125 11.03125 \r\nQ 45.3125 15.671875 45.3125 23.6875 \r\nL 45.3125 54.6875 \r\nL 54.296875 54.6875 \r\nL 54.296875 0 \r\nL 45.3125 0 \r\nL 45.3125 8.40625 \r\nQ 42.046875 3.421875 37.71875 1 \r\nQ 33.40625 -1.421875 27.6875 -1.421875 \r\nQ 18.265625 -1.421875 13.375 4.4375 \r\nQ 8.5 10.296875 8.5 21.578125 \r\nz\r\nM 31.109375 56 \r\nz\r\n\" id=\"DejaVuSans-117\"/>\r\n      </defs>\r\n      <g transform=\"translate(267.632812 239.238437)scale(0.1 -0.1)\">\r\n       <use xlink:href=\"#DejaVuSans-78\"/>\r\n       <use x=\"74.804688\" xlink:href=\"#DejaVuSans-117\"/>\r\n       <use x=\"138.183594\" xlink:href=\"#DejaVuSans-83\"/>\r\n       <use x=\"201.660156\" xlink:href=\"#DejaVuSans-86\"/>\r\n       <use x=\"270.068359\" xlink:href=\"#DejaVuSans-67\"/>\r\n      </g>\r\n     </g>\r\n    </g>\r\n    <g id=\"xtick_8\">\r\n     <g id=\"line2d_8\">\r\n      <g>\r\n       <use style=\"stroke:#000000;stroke-width:0.8;\" x=\"321.828125\" xlink:href=\"#mbe9c6901d5\" y=\"224.64\"/>\r\n      </g>\r\n     </g>\r\n     <g id=\"text_8\">\r\n      <!-- SGD -->\r\n      <g transform=\"translate(310.929687 239.238437)scale(0.1 -0.1)\">\r\n       <use xlink:href=\"#DejaVuSans-83\"/>\r\n       <use x=\"63.476562\" xlink:href=\"#DejaVuSans-71\"/>\r\n       <use x=\"140.966797\" xlink:href=\"#DejaVuSans-68\"/>\r\n      </g>\r\n     </g>\r\n    </g>\r\n    <g id=\"xtick_9\">\r\n     <g id=\"line2d_9\">\r\n      <g>\r\n       <use style=\"stroke:#000000;stroke-width:0.8;\" x=\"359.028125\" xlink:href=\"#mbe9c6901d5\" y=\"224.64\"/>\r\n      </g>\r\n     </g>\r\n     <g id=\"text_9\">\r\n      <!-- KNN -->\r\n      <defs>\r\n       <path d=\"M 9.8125 72.90625 \r\nL 19.671875 72.90625 \r\nL 19.671875 42.09375 \r\nL 52.390625 72.90625 \r\nL 65.09375 72.90625 \r\nL 28.90625 38.921875 \r\nL 67.671875 0 \r\nL 54.6875 0 \r\nL 19.671875 35.109375 \r\nL 19.671875 0 \r\nL 9.8125 0 \r\nz\r\n\" id=\"DejaVuSans-75\"/>\r\n      </defs>\r\n      <g transform=\"translate(348.267969 239.238437)scale(0.1 -0.1)\">\r\n       <use xlink:href=\"#DejaVuSans-75\"/>\r\n       <use x=\"65.576172\" xlink:href=\"#DejaVuSans-78\"/>\r\n       <use x=\"140.380859\" xlink:href=\"#DejaVuSans-78\"/>\r\n      </g>\r\n     </g>\r\n    </g>\r\n   </g>\r\n   <g id=\"matplotlib.axis_2\">\r\n    <g id=\"ytick_1\">\r\n     <g id=\"line2d_10\">\r\n      <defs>\r\n       <path d=\"M 0 0 \r\nL -3.5 0 \r\n\" id=\"m1bcb41b05f\" style=\"stroke:#000000;stroke-width:0.8;\"/>\r\n      </defs>\r\n      <g>\r\n       <use style=\"stroke:#000000;stroke-width:0.8;\" x=\"42.828125\" xlink:href=\"#m1bcb41b05f\" y=\"203.019545\"/>\r\n      </g>\r\n     </g>\r\n     <g id=\"text_10\">\r\n      <!-- 0.825 -->\r\n      <defs>\r\n       <path d=\"M 31.78125 66.40625 \r\nQ 24.171875 66.40625 20.328125 58.90625 \r\nQ 16.5 51.421875 16.5 36.375 \r\nQ 16.5 21.390625 20.328125 13.890625 \r\nQ 24.171875 6.390625 31.78125 6.390625 \r\nQ 39.453125 6.390625 43.28125 13.890625 \r\nQ 47.125 21.390625 47.125 36.375 \r\nQ 47.125 51.421875 43.28125 58.90625 \r\nQ 39.453125 66.40625 31.78125 66.40625 \r\nz\r\nM 31.78125 74.21875 \r\nQ 44.046875 74.21875 50.515625 64.515625 \r\nQ 56.984375 54.828125 56.984375 36.375 \r\nQ 56.984375 17.96875 50.515625 8.265625 \r\nQ 44.046875 -1.421875 31.78125 -1.421875 \r\nQ 19.53125 -1.421875 13.0625 8.265625 \r\nQ 6.59375 17.96875 6.59375 36.375 \r\nQ 6.59375 54.828125 13.0625 64.515625 \r\nQ 19.53125 74.21875 31.78125 74.21875 \r\nz\r\n\" id=\"DejaVuSans-48\"/>\r\n       <path d=\"M 10.6875 12.40625 \r\nL 21 12.40625 \r\nL 21 0 \r\nL 10.6875 0 \r\nz\r\n\" id=\"DejaVuSans-46\"/>\r\n       <path d=\"M 31.78125 34.625 \r\nQ 24.75 34.625 20.71875 30.859375 \r\nQ 16.703125 27.09375 16.703125 20.515625 \r\nQ 16.703125 13.921875 20.71875 10.15625 \r\nQ 24.75 6.390625 31.78125 6.390625 \r\nQ 38.8125 6.390625 42.859375 10.171875 \r\nQ 46.921875 13.96875 46.921875 20.515625 \r\nQ 46.921875 27.09375 42.890625 30.859375 \r\nQ 38.875 34.625 31.78125 34.625 \r\nz\r\nM 21.921875 38.8125 \r\nQ 15.578125 40.375 12.03125 44.71875 \r\nQ 8.5 49.078125 8.5 55.328125 \r\nQ 8.5 64.0625 14.71875 69.140625 \r\nQ 20.953125 74.21875 31.78125 74.21875 \r\nQ 42.671875 74.21875 48.875 69.140625 \r\nQ 55.078125 64.0625 55.078125 55.328125 \r\nQ 55.078125 49.078125 51.53125 44.71875 \r\nQ 48 40.375 41.703125 38.8125 \r\nQ 48.828125 37.15625 52.796875 32.3125 \r\nQ 56.78125 27.484375 56.78125 20.515625 \r\nQ 56.78125 9.90625 50.3125 4.234375 \r\nQ 43.84375 -1.421875 31.78125 -1.421875 \r\nQ 19.734375 -1.421875 13.25 4.234375 \r\nQ 6.78125 9.90625 6.78125 20.515625 \r\nQ 6.78125 27.484375 10.78125 32.3125 \r\nQ 14.796875 37.15625 21.921875 38.8125 \r\nz\r\nM 18.3125 54.390625 \r\nQ 18.3125 48.734375 21.84375 45.5625 \r\nQ 25.390625 42.390625 31.78125 42.390625 \r\nQ 38.140625 42.390625 41.71875 45.5625 \r\nQ 45.3125 48.734375 45.3125 54.390625 \r\nQ 45.3125 60.0625 41.71875 63.234375 \r\nQ 38.140625 66.40625 31.78125 66.40625 \r\nQ 25.390625 66.40625 21.84375 63.234375 \r\nQ 18.3125 60.0625 18.3125 54.390625 \r\nz\r\n\" id=\"DejaVuSans-56\"/>\r\n       <path d=\"M 19.1875 8.296875 \r\nL 53.609375 8.296875 \r\nL 53.609375 0 \r\nL 7.328125 0 \r\nL 7.328125 8.296875 \r\nQ 12.9375 14.109375 22.625 23.890625 \r\nQ 32.328125 33.6875 34.8125 36.53125 \r\nQ 39.546875 41.84375 41.421875 45.53125 \r\nQ 43.3125 49.21875 43.3125 52.78125 \r\nQ 43.3125 58.59375 39.234375 62.25 \r\nQ 35.15625 65.921875 28.609375 65.921875 \r\nQ 23.96875 65.921875 18.8125 64.3125 \r\nQ 13.671875 62.703125 7.8125 59.421875 \r\nL 7.8125 69.390625 \r\nQ 13.765625 71.78125 18.9375 73 \r\nQ 24.125 74.21875 28.421875 74.21875 \r\nQ 39.75 74.21875 46.484375 68.546875 \r\nQ 53.21875 62.890625 53.21875 53.421875 \r\nQ 53.21875 48.921875 51.53125 44.890625 \r\nQ 49.859375 40.875 45.40625 35.40625 \r\nQ 44.1875 33.984375 37.640625 27.21875 \r\nQ 31.109375 20.453125 19.1875 8.296875 \r\nz\r\n\" id=\"DejaVuSans-50\"/>\r\n       <path d=\"M 10.796875 72.90625 \r\nL 49.515625 72.90625 \r\nL 49.515625 64.59375 \r\nL 19.828125 64.59375 \r\nL 19.828125 46.734375 \r\nQ 21.96875 47.46875 24.109375 47.828125 \r\nQ 26.265625 48.1875 28.421875 48.1875 \r\nQ 40.625 48.1875 47.75 41.5 \r\nQ 54.890625 34.8125 54.890625 23.390625 \r\nQ 54.890625 11.625 47.5625 5.09375 \r\nQ 40.234375 -1.421875 26.90625 -1.421875 \r\nQ 22.3125 -1.421875 17.546875 -0.640625 \r\nQ 12.796875 0.140625 7.71875 1.703125 \r\nL 7.71875 11.625 \r\nQ 12.109375 9.234375 16.796875 8.0625 \r\nQ 21.484375 6.890625 26.703125 6.890625 \r\nQ 35.15625 6.890625 40.078125 11.328125 \r\nQ 45.015625 15.765625 45.015625 23.390625 \r\nQ 45.015625 31 40.078125 35.4375 \r\nQ 35.15625 39.890625 26.703125 39.890625 \r\nQ 22.75 39.890625 18.8125 39.015625 \r\nQ 14.890625 38.140625 10.796875 36.28125 \r\nz\r\n\" id=\"DejaVuSans-53\"/>\r\n      </defs>\r\n      <g transform=\"translate(7.2 206.818764)scale(0.1 -0.1)\">\r\n       <use xlink:href=\"#DejaVuSans-48\"/>\r\n       <use x=\"63.623047\" xlink:href=\"#DejaVuSans-46\"/>\r\n       <use x=\"95.410156\" xlink:href=\"#DejaVuSans-56\"/>\r\n       <use x=\"159.033203\" xlink:href=\"#DejaVuSans-50\"/>\r\n       <use x=\"222.65625\" xlink:href=\"#DejaVuSans-53\"/>\r\n      </g>\r\n     </g>\r\n    </g>\r\n    <g id=\"ytick_2\">\r\n     <g id=\"line2d_11\">\r\n      <g>\r\n       <use style=\"stroke:#000000;stroke-width:0.8;\" x=\"42.828125\" xlink:href=\"#m1bcb41b05f\" y=\"176.457273\"/>\r\n      </g>\r\n     </g>\r\n     <g id=\"text_11\">\r\n      <!-- 0.850 -->\r\n      <g transform=\"translate(7.2 180.256491)scale(0.1 -0.1)\">\r\n       <use xlink:href=\"#DejaVuSans-48\"/>\r\n       <use x=\"63.623047\" xlink:href=\"#DejaVuSans-46\"/>\r\n       <use x=\"95.410156\" xlink:href=\"#DejaVuSans-56\"/>\r\n       <use x=\"159.033203\" xlink:href=\"#DejaVuSans-53\"/>\r\n       <use x=\"222.65625\" xlink:href=\"#DejaVuSans-48\"/>\r\n      </g>\r\n     </g>\r\n    </g>\r\n    <g id=\"ytick_3\">\r\n     <g id=\"line2d_12\">\r\n      <g>\r\n       <use style=\"stroke:#000000;stroke-width:0.8;\" x=\"42.828125\" xlink:href=\"#m1bcb41b05f\" y=\"149.895\"/>\r\n      </g>\r\n     </g>\r\n     <g id=\"text_12\">\r\n      <!-- 0.875 -->\r\n      <defs>\r\n       <path d=\"M 8.203125 72.90625 \r\nL 55.078125 72.90625 \r\nL 55.078125 68.703125 \r\nL 28.609375 0 \r\nL 18.3125 0 \r\nL 43.21875 64.59375 \r\nL 8.203125 64.59375 \r\nz\r\n\" id=\"DejaVuSans-55\"/>\r\n      </defs>\r\n      <g transform=\"translate(7.2 153.694219)scale(0.1 -0.1)\">\r\n       <use xlink:href=\"#DejaVuSans-48\"/>\r\n       <use x=\"63.623047\" xlink:href=\"#DejaVuSans-46\"/>\r\n       <use x=\"95.410156\" xlink:href=\"#DejaVuSans-56\"/>\r\n       <use x=\"159.033203\" xlink:href=\"#DejaVuSans-55\"/>\r\n       <use x=\"222.65625\" xlink:href=\"#DejaVuSans-53\"/>\r\n      </g>\r\n     </g>\r\n    </g>\r\n    <g id=\"ytick_4\">\r\n     <g id=\"line2d_13\">\r\n      <g>\r\n       <use style=\"stroke:#000000;stroke-width:0.8;\" x=\"42.828125\" xlink:href=\"#m1bcb41b05f\" y=\"123.332727\"/>\r\n      </g>\r\n     </g>\r\n     <g id=\"text_13\">\r\n      <!-- 0.900 -->\r\n      <defs>\r\n       <path d=\"M 10.984375 1.515625 \r\nL 10.984375 10.5 \r\nQ 14.703125 8.734375 18.5 7.8125 \r\nQ 22.3125 6.890625 25.984375 6.890625 \r\nQ 35.75 6.890625 40.890625 13.453125 \r\nQ 46.046875 20.015625 46.78125 33.40625 \r\nQ 43.953125 29.203125 39.59375 26.953125 \r\nQ 35.25 24.703125 29.984375 24.703125 \r\nQ 19.046875 24.703125 12.671875 31.3125 \r\nQ 6.296875 37.9375 6.296875 49.421875 \r\nQ 6.296875 60.640625 12.9375 67.421875 \r\nQ 19.578125 74.21875 30.609375 74.21875 \r\nQ 43.265625 74.21875 49.921875 64.515625 \r\nQ 56.59375 54.828125 56.59375 36.375 \r\nQ 56.59375 19.140625 48.40625 8.859375 \r\nQ 40.234375 -1.421875 26.421875 -1.421875 \r\nQ 22.703125 -1.421875 18.890625 -0.6875 \r\nQ 15.09375 0.046875 10.984375 1.515625 \r\nz\r\nM 30.609375 32.421875 \r\nQ 37.25 32.421875 41.125 36.953125 \r\nQ 45.015625 41.5 45.015625 49.421875 \r\nQ 45.015625 57.28125 41.125 61.84375 \r\nQ 37.25 66.40625 30.609375 66.40625 \r\nQ 23.96875 66.40625 20.09375 61.84375 \r\nQ 16.21875 57.28125 16.21875 49.421875 \r\nQ 16.21875 41.5 20.09375 36.953125 \r\nQ 23.96875 32.421875 30.609375 32.421875 \r\nz\r\n\" id=\"DejaVuSans-57\"/>\r\n      </defs>\r\n      <g transform=\"translate(7.2 127.131946)scale(0.1 -0.1)\">\r\n       <use xlink:href=\"#DejaVuSans-48\"/>\r\n       <use x=\"63.623047\" xlink:href=\"#DejaVuSans-46\"/>\r\n       <use x=\"95.410156\" xlink:href=\"#DejaVuSans-57\"/>\r\n       <use x=\"159.033203\" xlink:href=\"#DejaVuSans-48\"/>\r\n       <use x=\"222.65625\" xlink:href=\"#DejaVuSans-48\"/>\r\n      </g>\r\n     </g>\r\n    </g>\r\n    <g id=\"ytick_5\">\r\n     <g id=\"line2d_14\">\r\n      <g>\r\n       <use style=\"stroke:#000000;stroke-width:0.8;\" x=\"42.828125\" xlink:href=\"#m1bcb41b05f\" y=\"96.770455\"/>\r\n      </g>\r\n     </g>\r\n     <g id=\"text_14\">\r\n      <!-- 0.925 -->\r\n      <g transform=\"translate(7.2 100.569673)scale(0.1 -0.1)\">\r\n       <use xlink:href=\"#DejaVuSans-48\"/>\r\n       <use x=\"63.623047\" xlink:href=\"#DejaVuSans-46\"/>\r\n       <use x=\"95.410156\" xlink:href=\"#DejaVuSans-57\"/>\r\n       <use x=\"159.033203\" xlink:href=\"#DejaVuSans-50\"/>\r\n       <use x=\"222.65625\" xlink:href=\"#DejaVuSans-53\"/>\r\n      </g>\r\n     </g>\r\n    </g>\r\n    <g id=\"ytick_6\">\r\n     <g id=\"line2d_15\">\r\n      <g>\r\n       <use style=\"stroke:#000000;stroke-width:0.8;\" x=\"42.828125\" xlink:href=\"#m1bcb41b05f\" y=\"70.208182\"/>\r\n      </g>\r\n     </g>\r\n     <g id=\"text_15\">\r\n      <!-- 0.950 -->\r\n      <g transform=\"translate(7.2 74.007401)scale(0.1 -0.1)\">\r\n       <use xlink:href=\"#DejaVuSans-48\"/>\r\n       <use x=\"63.623047\" xlink:href=\"#DejaVuSans-46\"/>\r\n       <use x=\"95.410156\" xlink:href=\"#DejaVuSans-57\"/>\r\n       <use x=\"159.033203\" xlink:href=\"#DejaVuSans-53\"/>\r\n       <use x=\"222.65625\" xlink:href=\"#DejaVuSans-48\"/>\r\n      </g>\r\n     </g>\r\n    </g>\r\n    <g id=\"ytick_7\">\r\n     <g id=\"line2d_16\">\r\n      <g>\r\n       <use style=\"stroke:#000000;stroke-width:0.8;\" x=\"42.828125\" xlink:href=\"#m1bcb41b05f\" y=\"43.645909\"/>\r\n      </g>\r\n     </g>\r\n     <g id=\"text_16\">\r\n      <!-- 0.975 -->\r\n      <g transform=\"translate(7.2 47.445128)scale(0.1 -0.1)\">\r\n       <use xlink:href=\"#DejaVuSans-48\"/>\r\n       <use x=\"63.623047\" xlink:href=\"#DejaVuSans-46\"/>\r\n       <use x=\"95.410156\" xlink:href=\"#DejaVuSans-57\"/>\r\n       <use x=\"159.033203\" xlink:href=\"#DejaVuSans-55\"/>\r\n       <use x=\"222.65625\" xlink:href=\"#DejaVuSans-53\"/>\r\n      </g>\r\n     </g>\r\n    </g>\r\n    <g id=\"ytick_8\">\r\n     <g id=\"line2d_17\">\r\n      <g>\r\n       <use style=\"stroke:#000000;stroke-width:0.8;\" x=\"42.828125\" xlink:href=\"#m1bcb41b05f\" y=\"17.083636\"/>\r\n      </g>\r\n     </g>\r\n     <g id=\"text_17\">\r\n      <!-- 1.000 -->\r\n      <defs>\r\n       <path d=\"M 12.40625 8.296875 \r\nL 28.515625 8.296875 \r\nL 28.515625 63.921875 \r\nL 10.984375 60.40625 \r\nL 10.984375 69.390625 \r\nL 28.421875 72.90625 \r\nL 38.28125 72.90625 \r\nL 38.28125 8.296875 \r\nL 54.390625 8.296875 \r\nL 54.390625 0 \r\nL 12.40625 0 \r\nz\r\n\" id=\"DejaVuSans-49\"/>\r\n      </defs>\r\n      <g transform=\"translate(7.2 20.882855)scale(0.1 -0.1)\">\r\n       <use xlink:href=\"#DejaVuSans-49\"/>\r\n       <use x=\"63.623047\" xlink:href=\"#DejaVuSans-46\"/>\r\n       <use x=\"95.410156\" xlink:href=\"#DejaVuSans-48\"/>\r\n       <use x=\"159.033203\" xlink:href=\"#DejaVuSans-48\"/>\r\n       <use x=\"222.65625\" xlink:href=\"#DejaVuSans-48\"/>\r\n      </g>\r\n     </g>\r\n    </g>\r\n   </g>\r\n   <g id=\"line2d_18\">\r\n    <path clip-path=\"url(#pf1f00a09b0)\" d=\"M 52.128125 101.599959 \r\nL 70.728125 101.599959 \r\nL 70.728125 65.940248 \r\nL 52.128125 65.940248 \r\nL 52.128125 101.599959 \r\n\" style=\"fill:none;stroke:#000000;stroke-linecap:square;\"/>\r\n   </g>\r\n   <g id=\"line2d_19\">\r\n    <path clip-path=\"url(#pf1f00a09b0)\" d=\"M 61.428125 101.599959 \r\nL 61.428125 140.629091 \r\n\" style=\"fill:none;stroke:#000000;stroke-linecap:square;\"/>\r\n   </g>\r\n   <g id=\"line2d_20\">\r\n    <path clip-path=\"url(#pf1f00a09b0)\" d=\"M 61.428125 65.940248 \r\nL 61.428125 41.231157 \r\n\" style=\"fill:none;stroke:#000000;stroke-linecap:square;\"/>\r\n   </g>\r\n   <g id=\"line2d_21\">\r\n    <path clip-path=\"url(#pf1f00a09b0)\" d=\"M 56.778125 140.629091 \r\nL 66.078125 140.629091 \r\n\" style=\"fill:none;stroke:#000000;stroke-linecap:square;\"/>\r\n   </g>\r\n   <g id=\"line2d_22\">\r\n    <path clip-path=\"url(#pf1f00a09b0)\" d=\"M 56.778125 41.231157 \r\nL 66.078125 41.231157 \r\n\" style=\"fill:none;stroke:#000000;stroke-linecap:square;\"/>\r\n   </g>\r\n   <g id=\"line2d_23\">\r\n    <defs>\r\n     <path d=\"M 0 3 \r\nC 0.795609 3 1.55874 2.683901 2.12132 2.12132 \r\nC 2.683901 1.55874 3 0.795609 3 0 \r\nC 3 -0.795609 2.683901 -1.55874 2.12132 -2.12132 \r\nC 1.55874 -2.683901 0.795609 -3 0 -3 \r\nC -0.795609 -3 -1.55874 -2.683901 -2.12132 -2.12132 \r\nC -2.683901 -1.55874 -3 -0.795609 -3 0 \r\nC -3 0.795609 -2.683901 1.55874 -2.12132 2.12132 \r\nC -1.55874 2.683901 -0.795609 3 0 3 \r\nz\r\n\" id=\"ma5c04c1699\" style=\"stroke:#000000;\"/>\r\n    </defs>\r\n    <g clip-path=\"url(#pf1f00a09b0)\">\r\n     <use style=\"fill-opacity:0;stroke:#000000;\" x=\"61.428125\" xlink:href=\"#ma5c04c1699\" y=\"161.96876\"/>\r\n    </g>\r\n   </g>\r\n   <g id=\"line2d_24\">\r\n    <path clip-path=\"url(#pf1f00a09b0)\" d=\"M 89.328125 102.442314 \r\nL 107.928125 102.442314 \r\nL 107.928125 53.585702 \r\nL 89.328125 53.585702 \r\nL 89.328125 102.442314 \r\n\" style=\"fill:none;stroke:#000000;stroke-linecap:square;\"/>\r\n   </g>\r\n   <g id=\"line2d_25\">\r\n    <path clip-path=\"url(#pf1f00a09b0)\" d=\"M 98.628125 102.442314 \r\nL 98.628125 140.629091 \r\n\" style=\"fill:none;stroke:#000000;stroke-linecap:square;\"/>\r\n   </g>\r\n   <g id=\"line2d_26\">\r\n    <path clip-path=\"url(#pf1f00a09b0)\" d=\"M 98.628125 53.585702 \r\nL 98.628125 41.231157 \r\n\" style=\"fill:none;stroke:#000000;stroke-linecap:square;\"/>\r\n   </g>\r\n   <g id=\"line2d_27\">\r\n    <path clip-path=\"url(#pf1f00a09b0)\" d=\"M 93.978125 140.629091 \r\nL 103.278125 140.629091 \r\n\" style=\"fill:none;stroke:#000000;stroke-linecap:square;\"/>\r\n   </g>\r\n   <g id=\"line2d_28\">\r\n    <path clip-path=\"url(#pf1f00a09b0)\" d=\"M 93.978125 41.231157 \r\nL 103.278125 41.231157 \r\n\" style=\"fill:none;stroke:#000000;stroke-linecap:square;\"/>\r\n   </g>\r\n   <g id=\"line2d_29\"/>\r\n   <g id=\"line2d_30\">\r\n    <path clip-path=\"url(#pf1f00a09b0)\" d=\"M 126.528125 126.87062 \r\nL 145.128125 126.87062 \r\nL 145.128125 65.378678 \r\nL 126.528125 65.378678 \r\nL 126.528125 126.87062 \r\n\" style=\"fill:none;stroke:#000000;stroke-linecap:square;\"/>\r\n   </g>\r\n   <g id=\"line2d_31\">\r\n    <path clip-path=\"url(#pf1f00a09b0)\" d=\"M 135.828125 126.87062 \r\nL 135.828125 165.338182 \r\n\" style=\"fill:none;stroke:#000000;stroke-linecap:square;\"/>\r\n   </g>\r\n   <g id=\"line2d_32\">\r\n    <path clip-path=\"url(#pf1f00a09b0)\" d=\"M 135.828125 65.378678 \r\nL 135.828125 17.083636 \r\n\" style=\"fill:none;stroke:#000000;stroke-linecap:square;\"/>\r\n   </g>\r\n   <g id=\"line2d_33\">\r\n    <path clip-path=\"url(#pf1f00a09b0)\" d=\"M 131.178125 165.338182 \r\nL 140.478125 165.338182 \r\n\" style=\"fill:none;stroke:#000000;stroke-linecap:square;\"/>\r\n   </g>\r\n   <g id=\"line2d_34\">\r\n    <path clip-path=\"url(#pf1f00a09b0)\" d=\"M 131.178125 17.083636 \r\nL 140.478125 17.083636 \r\n\" style=\"fill:none;stroke:#000000;stroke-linecap:square;\"/>\r\n   </g>\r\n   <g id=\"line2d_35\"/>\r\n   <g id=\"line2d_36\">\r\n    <path clip-path=\"url(#pf1f00a09b0)\" d=\"M 163.728125 139.225165 \r\nL 182.328125 139.225165 \r\nL 182.328125 78.014008 \r\nL 163.728125 78.014008 \r\nL 163.728125 139.225165 \r\n\" style=\"fill:none;stroke:#000000;stroke-linecap:square;\"/>\r\n   </g>\r\n   <g id=\"line2d_37\">\r\n    <path clip-path=\"url(#pf1f00a09b0)\" d=\"M 173.028125 139.225165 \r\nL 173.028125 190.047273 \r\n\" style=\"fill:none;stroke:#000000;stroke-linecap:square;\"/>\r\n   </g>\r\n   <g id=\"line2d_38\">\r\n    <path clip-path=\"url(#pf1f00a09b0)\" d=\"M 173.028125 78.014008 \r\nL 173.028125 41.792727 \r\n\" style=\"fill:none;stroke:#000000;stroke-linecap:square;\"/>\r\n   </g>\r\n   <g id=\"line2d_39\">\r\n    <path clip-path=\"url(#pf1f00a09b0)\" d=\"M 168.378125 190.047273 \r\nL 177.678125 190.047273 \r\n\" style=\"fill:none;stroke:#000000;stroke-linecap:square;\"/>\r\n   </g>\r\n   <g id=\"line2d_40\">\r\n    <path clip-path=\"url(#pf1f00a09b0)\" d=\"M 168.378125 41.792727 \r\nL 177.678125 41.792727 \r\n\" style=\"fill:none;stroke:#000000;stroke-linecap:square;\"/>\r\n   </g>\r\n   <g id=\"line2d_41\"/>\r\n   <g id=\"line2d_42\">\r\n    <path clip-path=\"url(#pf1f00a09b0)\" d=\"M 200.928125 139.225165 \r\nL 219.528125 139.225165 \r\nL 219.528125 101.599959 \r\nL 200.928125 101.599959 \r\nL 200.928125 139.225165 \r\n\" style=\"fill:none;stroke:#000000;stroke-linecap:square;\"/>\r\n   </g>\r\n   <g id=\"line2d_43\">\r\n    <path clip-path=\"url(#pf1f00a09b0)\" d=\"M 210.228125 139.225165 \r\nL 210.228125 165.338182 \r\n\" style=\"fill:none;stroke:#000000;stroke-linecap:square;\"/>\r\n   </g>\r\n   <g id=\"line2d_44\">\r\n    <path clip-path=\"url(#pf1f00a09b0)\" d=\"M 210.228125 101.599959 \r\nL 210.228125 66.501818 \r\n\" style=\"fill:none;stroke:#000000;stroke-linecap:square;\"/>\r\n   </g>\r\n   <g id=\"line2d_45\">\r\n    <path clip-path=\"url(#pf1f00a09b0)\" d=\"M 205.578125 165.338182 \r\nL 214.878125 165.338182 \r\n\" style=\"fill:none;stroke:#000000;stroke-linecap:square;\"/>\r\n   </g>\r\n   <g id=\"line2d_46\">\r\n    <path clip-path=\"url(#pf1f00a09b0)\" d=\"M 205.578125 66.501818 \r\nL 214.878125 66.501818 \r\n\" style=\"fill:none;stroke:#000000;stroke-linecap:square;\"/>\r\n   </g>\r\n   <g id=\"line2d_47\">\r\n    <g clip-path=\"url(#pf1f00a09b0)\">\r\n     <use style=\"fill-opacity:0;stroke:#000000;\" x=\"210.228125\" xlink:href=\"#ma5c04c1699\" y=\"214.756364\"/>\r\n     <use style=\"fill-opacity:0;stroke:#000000;\" x=\"210.228125\" xlink:href=\"#ma5c04c1699\" y=\"214.756364\"/>\r\n     <use style=\"fill-opacity:0;stroke:#000000;\" x=\"210.228125\" xlink:href=\"#ma5c04c1699\" y=\"41.792727\"/>\r\n    </g>\r\n   </g>\r\n   <g id=\"line2d_48\">\r\n    <path clip-path=\"url(#pf1f00a09b0)\" d=\"M 238.128125 90.368554 \r\nL 256.728125 90.368554 \r\nL 256.728125 53.585702 \r\nL 238.128125 53.585702 \r\nL 238.128125 90.368554 \r\n\" style=\"fill:none;stroke:#000000;stroke-linecap:square;\"/>\r\n   </g>\r\n   <g id=\"line2d_49\">\r\n    <path clip-path=\"url(#pf1f00a09b0)\" d=\"M 247.428125 90.368554 \r\nL 247.428125 140.629091 \r\n\" style=\"fill:none;stroke:#000000;stroke-linecap:square;\"/>\r\n   </g>\r\n   <g id=\"line2d_50\">\r\n    <path clip-path=\"url(#pf1f00a09b0)\" d=\"M 247.428125 53.585702 \r\nL 247.428125 41.231157 \r\n\" style=\"fill:none;stroke:#000000;stroke-linecap:square;\"/>\r\n   </g>\r\n   <g id=\"line2d_51\">\r\n    <path clip-path=\"url(#pf1f00a09b0)\" d=\"M 242.778125 140.629091 \r\nL 252.078125 140.629091 \r\n\" style=\"fill:none;stroke:#000000;stroke-linecap:square;\"/>\r\n   </g>\r\n   <g id=\"line2d_52\">\r\n    <path clip-path=\"url(#pf1f00a09b0)\" d=\"M 242.778125 41.231157 \r\nL 252.078125 41.231157 \r\n\" style=\"fill:none;stroke:#000000;stroke-linecap:square;\"/>\r\n   </g>\r\n   <g id=\"line2d_53\"/>\r\n   <g id=\"line2d_54\">\r\n    <path clip-path=\"url(#pf1f00a09b0)\" d=\"M 275.328125 125.747479 \r\nL 293.928125 125.747479 \r\nL 293.928125 78.014008 \r\nL 275.328125 78.014008 \r\nL 275.328125 125.747479 \r\n\" style=\"fill:none;stroke:#000000;stroke-linecap:square;\"/>\r\n   </g>\r\n   <g id=\"line2d_55\">\r\n    <path clip-path=\"url(#pf1f00a09b0)\" d=\"M 284.628125 125.747479 \r\nL 284.628125 190.047273 \r\n\" style=\"fill:none;stroke:#000000;stroke-linecap:square;\"/>\r\n   </g>\r\n   <g id=\"line2d_56\">\r\n    <path clip-path=\"url(#pf1f00a09b0)\" d=\"M 284.628125 78.014008 \r\nL 284.628125 41.792727 \r\n\" style=\"fill:none;stroke:#000000;stroke-linecap:square;\"/>\r\n   </g>\r\n   <g id=\"line2d_57\">\r\n    <path clip-path=\"url(#pf1f00a09b0)\" d=\"M 279.978125 190.047273 \r\nL 289.278125 190.047273 \r\n\" style=\"fill:none;stroke:#000000;stroke-linecap:square;\"/>\r\n   </g>\r\n   <g id=\"line2d_58\">\r\n    <path clip-path=\"url(#pf1f00a09b0)\" d=\"M 279.978125 41.792727 \r\nL 289.278125 41.792727 \r\n\" style=\"fill:none;stroke:#000000;stroke-linecap:square;\"/>\r\n   </g>\r\n   <g id=\"line2d_59\"/>\r\n   <g id=\"line2d_60\">\r\n    <path clip-path=\"url(#pf1f00a09b0)\" d=\"M 312.528125 113.673719 \r\nL 331.128125 113.673719 \r\nL 331.128125 78.014008 \r\nL 312.528125 78.014008 \r\nL 312.528125 113.673719 \r\n\" style=\"fill:none;stroke:#000000;stroke-linecap:square;\"/>\r\n   </g>\r\n   <g id=\"line2d_61\">\r\n    <path clip-path=\"url(#pf1f00a09b0)\" d=\"M 321.828125 113.673719 \r\nL 321.828125 115.92 \r\n\" style=\"fill:none;stroke:#000000;stroke-linecap:square;\"/>\r\n   </g>\r\n   <g id=\"line2d_62\">\r\n    <path clip-path=\"url(#pf1f00a09b0)\" d=\"M 321.828125 78.014008 \r\nL 321.828125 41.231157 \r\n\" style=\"fill:none;stroke:#000000;stroke-linecap:square;\"/>\r\n   </g>\r\n   <g id=\"line2d_63\">\r\n    <path clip-path=\"url(#pf1f00a09b0)\" d=\"M 317.178125 115.92 \r\nL 326.478125 115.92 \r\n\" style=\"fill:none;stroke:#000000;stroke-linecap:square;\"/>\r\n   </g>\r\n   <g id=\"line2d_64\">\r\n    <path clip-path=\"url(#pf1f00a09b0)\" d=\"M 317.178125 41.231157 \r\nL 326.478125 41.231157 \r\n\" style=\"fill:none;stroke:#000000;stroke-linecap:square;\"/>\r\n   </g>\r\n   <g id=\"line2d_65\">\r\n    <g clip-path=\"url(#pf1f00a09b0)\">\r\n     <use style=\"fill-opacity:0;stroke:#000000;\" x=\"321.828125\" xlink:href=\"#ma5c04c1699\" y=\"210.263802\"/>\r\n    </g>\r\n   </g>\r\n   <g id=\"line2d_66\">\r\n    <path clip-path=\"url(#pf1f00a09b0)\" d=\"M 349.728125 137.82124 \r\nL 368.328125 137.82124 \r\nL 368.328125 89.526198 \r\nL 349.728125 89.526198 \r\nL 349.728125 137.82124 \r\n\" style=\"fill:none;stroke:#000000;stroke-linecap:square;\"/>\r\n   </g>\r\n   <g id=\"line2d_67\">\r\n    <path clip-path=\"url(#pf1f00a09b0)\" d=\"M 359.028125 137.82124 \r\nL 359.028125 165.338182 \r\n\" style=\"fill:none;stroke:#000000;stroke-linecap:square;\"/>\r\n   </g>\r\n   <g id=\"line2d_68\">\r\n    <path clip-path=\"url(#pf1f00a09b0)\" d=\"M 359.028125 89.526198 \r\nL 359.028125 41.231157 \r\n\" style=\"fill:none;stroke:#000000;stroke-linecap:square;\"/>\r\n   </g>\r\n   <g id=\"line2d_69\">\r\n    <path clip-path=\"url(#pf1f00a09b0)\" d=\"M 354.378125 165.338182 \r\nL 363.678125 165.338182 \r\n\" style=\"fill:none;stroke:#000000;stroke-linecap:square;\"/>\r\n   </g>\r\n   <g id=\"line2d_70\">\r\n    <path clip-path=\"url(#pf1f00a09b0)\" d=\"M 354.378125 41.231157 \r\nL 363.678125 41.231157 \r\n\" style=\"fill:none;stroke:#000000;stroke-linecap:square;\"/>\r\n   </g>\r\n   <g id=\"line2d_71\">\r\n    <g clip-path=\"url(#pf1f00a09b0)\">\r\n     <use style=\"fill-opacity:0;stroke:#000000;\" x=\"359.028125\" xlink:href=\"#ma5c04c1699\" y=\"17.083636\"/>\r\n    </g>\r\n   </g>\r\n   <g id=\"line2d_72\">\r\n    <path clip-path=\"url(#pf1f00a09b0)\" d=\"M 52.128125 89.526198 \r\nL 70.728125 89.526198 \r\n\" style=\"fill:none;stroke:#ff7f0e;stroke-linecap:square;\"/>\r\n   </g>\r\n   <g id=\"line2d_73\">\r\n    <defs>\r\n     <path d=\"M 0 -3 \r\nL -3 3 \r\nL 3 3 \r\nz\r\n\" id=\"mb30a56396f\" style=\"stroke:#2ca02c;stroke-linejoin:miter;\"/>\r\n    </defs>\r\n    <g clip-path=\"url(#pf1f00a09b0)\">\r\n     <use style=\"fill:#2ca02c;stroke:#2ca02c;stroke-linejoin:miter;\" x=\"61.428125\" xlink:href=\"#mb30a56396f\" y=\"86.868099\"/>\r\n    </g>\r\n   </g>\r\n   <g id=\"line2d_74\">\r\n    <path clip-path=\"url(#pf1f00a09b0)\" d=\"M 89.328125 89.526198 \r\nL 107.928125 89.526198 \r\n\" style=\"fill:none;stroke:#ff7f0e;stroke-linecap:square;\"/>\r\n   </g>\r\n   <g id=\"line2d_75\">\r\n    <g clip-path=\"url(#pf1f00a09b0)\">\r\n     <use style=\"fill:#2ca02c;stroke:#2ca02c;stroke-linejoin:miter;\" x=\"98.628125\" xlink:href=\"#mb30a56396f\" y=\"83.64843\"/>\r\n    </g>\r\n   </g>\r\n   <g id=\"line2d_76\">\r\n    <path clip-path=\"url(#pf1f00a09b0)\" d=\"M 126.528125 66.501818 \r\nL 145.128125 66.501818 \r\n\" style=\"fill:none;stroke:#ff7f0e;stroke-linecap:square;\"/>\r\n   </g>\r\n   <g id=\"line2d_77\">\r\n    <g clip-path=\"url(#pf1f00a09b0)\">\r\n     <use style=\"fill:#2ca02c;stroke:#2ca02c;stroke-linejoin:miter;\" x=\"135.828125\" xlink:href=\"#mb30a56396f\" y=\"90.237521\"/>\r\n    </g>\r\n   </g>\r\n   <g id=\"line2d_78\">\r\n    <path clip-path=\"url(#pf1f00a09b0)\" d=\"M 163.728125 113.673719 \r\nL 182.328125 113.673719 \r\n\" style=\"fill:none;stroke:#ff7f0e;stroke-linecap:square;\"/>\r\n   </g>\r\n   <g id=\"line2d_79\">\r\n    <g clip-path=\"url(#pf1f00a09b0)\">\r\n     <use style=\"fill:#2ca02c;stroke:#2ca02c;stroke-linejoin:miter;\" x=\"173.028125\" xlink:href=\"#mb30a56396f\" y=\"112.887521\"/>\r\n    </g>\r\n   </g>\r\n   <g id=\"line2d_80\">\r\n    <path clip-path=\"url(#pf1f00a09b0)\" d=\"M 200.928125 137.82124 \r\nL 219.528125 137.82124 \r\n\" style=\"fill:none;stroke:#ff7f0e;stroke-linecap:square;\"/>\r\n   </g>\r\n   <g id=\"line2d_81\">\r\n    <g clip-path=\"url(#pf1f00a09b0)\">\r\n     <use style=\"fill:#2ca02c;stroke:#2ca02c;stroke-linejoin:miter;\" x=\"210.228125\" xlink:href=\"#mb30a56396f\" y=\"129.285372\"/>\r\n    </g>\r\n   </g>\r\n   <g id=\"line2d_82\">\r\n    <path clip-path=\"url(#pf1f00a09b0)\" d=\"M 238.128125 89.526198 \r\nL 256.728125 89.526198 \r\n\" style=\"fill:none;stroke:#ff7f0e;stroke-linecap:square;\"/>\r\n   </g>\r\n   <g id=\"line2d_83\">\r\n    <g clip-path=\"url(#pf1f00a09b0)\">\r\n     <use style=\"fill:#2ca02c;stroke:#2ca02c;stroke-linejoin:miter;\" x=\"247.428125\" xlink:href=\"#mb30a56396f\" y=\"77.171653\"/>\r\n    </g>\r\n   </g>\r\n   <g id=\"line2d_84\">\r\n    <path clip-path=\"url(#pf1f00a09b0)\" d=\"M 275.328125 91.210909 \r\nL 293.928125 91.210909 \r\n\" style=\"fill:none;stroke:#ff7f0e;stroke-linecap:square;\"/>\r\n   </g>\r\n   <g id=\"line2d_85\">\r\n    <g clip-path=\"url(#pf1f00a09b0)\">\r\n     <use style=\"fill:#2ca02c;stroke:#2ca02c;stroke-linejoin:miter;\" x=\"284.628125\" xlink:href=\"#mb30a56396f\" y=\"103.191074\"/>\r\n    </g>\r\n   </g>\r\n   <g id=\"line2d_86\">\r\n    <path clip-path=\"url(#pf1f00a09b0)\" d=\"M 312.528125 89.526198 \r\nL 331.128125 89.526198 \r\n\" style=\"fill:none;stroke:#ff7f0e;stroke-linecap:square;\"/>\r\n   </g>\r\n   <g id=\"line2d_87\">\r\n    <g clip-path=\"url(#pf1f00a09b0)\">\r\n     <use style=\"fill:#2ca02c;stroke:#2ca02c;stroke-linejoin:miter;\" x=\"321.828125\" xlink:href=\"#mb30a56396f\" y=\"94.917273\"/>\r\n    </g>\r\n   </g>\r\n   <g id=\"line2d_88\">\r\n    <path clip-path=\"url(#pf1f00a09b0)\" d=\"M 349.728125 115.92 \r\nL 368.328125 115.92 \r\n\" style=\"fill:none;stroke:#ff7f0e;stroke-linecap:square;\"/>\r\n   </g>\r\n   <g id=\"line2d_89\">\r\n    <g clip-path=\"url(#pf1f00a09b0)\">\r\n     <use style=\"fill:#2ca02c;stroke:#2ca02c;stroke-linejoin:miter;\" x=\"359.028125\" xlink:href=\"#mb30a56396f\" y=\"104.763471\"/>\r\n    </g>\r\n   </g>\r\n   <g id=\"patch_3\">\r\n    <path d=\"M 42.828125 224.64 \r\nL 42.828125 7.2 \r\n\" style=\"fill:none;stroke:#000000;stroke-linecap:square;stroke-linejoin:miter;stroke-width:0.8;\"/>\r\n   </g>\r\n   <g id=\"patch_4\">\r\n    <path d=\"M 377.628125 224.64 \r\nL 377.628125 7.2 \r\n\" style=\"fill:none;stroke:#000000;stroke-linecap:square;stroke-linejoin:miter;stroke-width:0.8;\"/>\r\n   </g>\r\n   <g id=\"patch_5\">\r\n    <path d=\"M 42.828125 224.64 \r\nL 377.628125 224.64 \r\n\" style=\"fill:none;stroke:#000000;stroke-linecap:square;stroke-linejoin:miter;stroke-width:0.8;\"/>\r\n   </g>\r\n   <g id=\"patch_6\">\r\n    <path d=\"M 42.828125 7.2 \r\nL 377.628125 7.2 \r\n\" style=\"fill:none;stroke:#000000;stroke-linecap:square;stroke-linejoin:miter;stroke-width:0.8;\"/>\r\n   </g>\r\n  </g>\r\n </g>\r\n <defs>\r\n  <clipPath id=\"pf1f00a09b0\">\r\n   <rect height=\"217.44\" width=\"334.8\" x=\"42.828125\" y=\"7.2\"/>\r\n  </clipPath>\r\n </defs>\r\n</svg>\r\n",
      "image/png": "[encoded data removed]"
     },
     "metadata": {
      "needs_background": "light"
     }
    }
   ],
   "source": [
    "#IMPUTED MODELS\n",
    "imp = SimpleImputer(strategy=\"most_frequent\")\n",
    "X = imp.fit_transform(X)\n",
    "\n",
    "models, names = get_models()\n",
    "\n",
    "results = list()\n",
    "print(\"Model\", \"Mean\", \"Std\")\n",
    "\n",
    "for i in range(len(models)):\n",
    "    scores = evaluate_model(X, y, models[i])\n",
    "    results.append(scores)\n",
    "    print('>%s %.3f (%.3f)' % (names[i], np.mean(scores), np.std(scores)))\n",
    "\n",
    "plt.boxplot(results, labels=names, showmeans=True)\n",
    "plt.show()"
   ]
  },
  {
   "cell_type": "code",
   "execution_count": null,
   "metadata": {},
   "outputs": [],
   "source": [
    "#DROP NA\n",
    "df_na = df.dropna()\n",
    "y = df_na['class'].values\n",
    "X = df_na.drop('class', axis=1).values\n",
    "\n",
    "models, names = get_models()\n",
    "\n",
    "results = list()\n",
    "print(\"Model\", \"Mean\", \"Std\")\n",
    "\n",
    "for i in range(len(models)):\n",
    "    scores = evaluate_model(X, y, models[i])\n",
    "    results.append(scores)\n",
    "    print('>%s %.3f (%.3f)' % (names[i], np.mean(scores), np.std(scores)))\n",
    "\n",
    "plt.boxplot(results, labels=names, showmeans=True)\n",
    "plt.show()"
   ]
  },
  {
   "cell_type": "code",
   "execution_count": 67,
   "metadata": {},
   "outputs": [],
   "source": [
    "#Crete X and Y\n",
    "df_imp = df\n",
    "y = df_imp['class'].values\n",
    "X = df_imp.drop('class', axis=1).values\n",
    "\n",
    "\n",
    "imp = SimpleImputer(strategy=\"most_frequent\")\n",
    "X = imp.fit_transform(X)\n",
    "\n",
    "X_train, X_test, y_train, y_test = train_test_split(X, y, test_size=0.3, random_state=21, stratify=y)"
   ]
  },
  {
   "cell_type": "code",
   "execution_count": null,
   "metadata": {},
   "outputs": [],
   "source": [
    "#df_test\n",
    "df_test_id = pd.read_csv(\"C:\\REPOS\\Kaggle\\CongressionalVotingID.shuf.tes.csv\",na_values=['unknown'])\n",
    "df_test = df_test_id.drop('ID',axis=1) #DROP ID\n",
    "df_test.replace(('y', 'n'), (1, 0), inplace=True) #Replace Y = 1 ; N = 0\n",
    "\n",
    "\n",
    "#test.head() #Y = 1; N = 0; unknown = NaN\n",
    "\n",
    "test_X = df_test.values\n",
    "#y_test = df_test.drop('class', axis=1).values"
   ]
  },
  {
   "cell_type": "code",
   "execution_count": null,
   "metadata": {},
   "outputs": [],
   "source": [
    "#df_test_imp = df_test\n",
    "#y = df_test_imp['class'].values\n",
    "#X = df_test_imp.drop('class', axis=1).values\n",
    "\n",
    "\n",
    "imp = SimpleImputer(strategy=\"most_frequent\")\n",
    "test_X = imp.fit_transform(test_X)"
   ]
  },
  {
   "cell_type": "code",
   "execution_count": null,
   "metadata": {},
   "outputs": [],
   "source": [
    "#RANDOM FOREST ------------------------------------------------\n",
    "\n",
    "clf = RandomForestClassifier(random_state=42,n_estimators = 400,min_samples_split=5,min_samples_leaf=1,max_features = \"sqrt\",max_depth = 30, bootstrap = True)\n",
    "#Params: {'n_estimators': 400, 'min_samples_split': 5, 'min_samples_leaf': 1, 'max_features': 'sqrt', 'max_depth': 30, 'bootstrap': True}\n",
    "clf.fit(X_train,y_train)\n",
    "\n",
    "predicts = clf.predict(test_X)\n",
    "\n",
    "#acc_vote = accuracy_score(test, predicts)\n",
    "#print(\"Acc: \",acc_vote)\n",
    "\n",
    "df_predicts = pd.DataFrame(predicts)\n",
    "#df_predicts.drop('0',axis=1)\n",
    "df_id = pd.DataFrame(df_test_id['ID'])\n",
    "\n",
    "df_predicts.replace((0,1), (\"democrat\", \"republican\"), inplace=True)\n",
    "#result = pd.concat([df_results,df_predicts],axis=1)\n",
    "\n",
    "#df_results['predicts'] = df_predicts\n",
    "\n",
    "#df_result = pd.DataFrame(result)\n",
    "#df_result.insert(1,\"ID\",df_test_id['ID'])\n",
    "\n",
    "#df_results['Result'] = df_result\n",
    "#df_results.insert(2,\"Result\",df_result)\n",
    "\n",
    "# \n",
    "#df_test_ids = pd.read_csv(\"C:\\REPOS\\Kaggle\\CongressionalVotingID.shuf.tes.csv\",na_values=['unknown'])\n",
    "#df_results.insert(0,\"ID\",df_test_ids['ID'])\n",
    "df_predicts.to_csv(\"Preds.csv\",index=False)\n",
    "df_id.to_csv(\"Ids.csv\",index=False)\n",
    "\n",
    "    "
   ]
  },
  {
   "cell_type": "code",
   "execution_count": null,
   "metadata": {},
   "outputs": [],
   "source": [
    "#RANDOM FOREST ------------------------------------------------\n",
    "#,n_estimators = 400,min_samples_split=5,min_samples_leaf=1,max_features = \"sqrt\",max_depth = 30, bootstrap = True\n",
    "rf = RandomForestClassifier(random_state=0)\n",
    "#Params: {'n_estimators': 400, 'min_samples_split': 5, 'min_samples_leaf': 1, 'max_features': 'sqrt', 'max_depth': 30, 'bootstrap': True}\n",
    "rf.fit(X_train,y_train)\n",
    "y_pred = rf.predict(X_test)\n",
    "acc_vote = accuracy_score(y_test, y_pred)\n",
    "print(\"Acc: \",acc_vote)"
   ]
  },
  {
   "cell_type": "code",
   "execution_count": null,
   "metadata": {},
   "outputs": [],
   "source": [
    "# KNN ------------------------------------------------\n",
    "\n",
    "knn = KNeighborsClassifier(n_neighbors=4,weights='uniform',leaf_size=10,algorithm='auto')\n",
    "#Params: {'weights': 'uniform', 'n_neighbors': 4, 'leaf_size': 10, 'algorithm': 'auto'}\n",
    "knn.fit(X_train, y_train)\n",
    "y_pred = knn.predict(X_test)\n",
    "acc_vote = accuracy_score(y_test, y_pred)\n",
    "print(\"Acc: \",acc_vote)"
   ]
  },
  {
   "cell_type": "code",
   "execution_count": 18,
   "metadata": {},
   "outputs": [
    {
     "output_type": "stream",
     "name": "stdout",
     "text": [
      "Acc:  0.9545454545454546\n"
     ]
    }
   ],
   "source": [
    "# DECISION TREE ------------------\n",
    "dt = DecisionTreeClassifier(random_state=0,splitter=\"random\",max_features='log2',criterion='entropy')\n",
    "#Params: {'splitter': 'random', 'max_features': 'log2', 'max_depth': 4, 'criterion': 'entropy', 'ccp_alpha': 0}\n",
    "\n",
    "dt.fit(X_train, y_train)\n",
    "y_pred = dt.predict(X_test)\n",
    "acc_vote = accuracy_score(y_test, y_pred)\n",
    "print(\"Acc: \",acc_vote)\n"
   ]
  },
  {
   "cell_type": "code",
   "execution_count": null,
   "metadata": {},
   "outputs": [],
   "source": [
    "# NAVIE BAYES\n",
    "nb = GaussianNB()\n",
    "nb.fit(X_train, y_train)\n",
    "y_pred = nb.predict(X_test)\n",
    "acc_vote = accuracy_score(y_test, y_pred)\n",
    "print(\"Acc: \",acc_vote)"
   ]
  },
  {
   "cell_type": "code",
   "execution_count": 26,
   "metadata": {},
   "outputs": [
    {
     "output_type": "stream",
     "name": "stdout",
     "text": [
      "Acc:  0.9545454545454546\n"
     ]
    }
   ],
   "source": [
    "# SVC\n",
    "svc = SVC()\n",
    "svc.fit(X_train, y_train)\n",
    "y_pred = svc.predict(X_test)\n",
    "acc_vote = accuracy_score(y_test, y_pred)\n",
    "print(\"Acc: \",acc_vote)"
   ]
  },
  {
   "cell_type": "code",
   "execution_count": null,
   "metadata": {},
   "outputs": [],
   "source": [
    "dt = DecisionTreeClassifier(random_state=0,splitter=\"random\",max_features='log2',criterion='entropy')\n",
    "dt.fit(X_train, y_train)\n",
    "y_pred = dt.predict(test_X)\n",
    "df_predicts = pd.DataFrame(y_pred)\n",
    "df_predicts.replace((0,1), (\"democrat\", \"republican\"), inplace=True)\n",
    "df_predicts.to_csv(\"Preds_dt.csv\",index=False)\n",
    "\n",
    "\n"
   ]
  },
  {
   "cell_type": "code",
   "execution_count": null,
   "metadata": {},
   "outputs": [],
   "source": [
    "d123 = pd.read_csv(\"C:\\REPOS\\Kaggle\\ids.csv\",delimiter = \";\")\n",
    "d123.to_csv(\"Results_5.csv\",index=False)\n"
   ]
  },
  {
   "source": [
    "# GRID SEARCHES"
   ],
   "cell_type": "markdown",
   "metadata": {}
  },
  {
   "cell_type": "code",
   "execution_count": null,
   "metadata": {},
   "outputs": [],
   "source": [
    "#grid search - random forest\n",
    "n_estimators = [int(x) for x in np.linspace(start = 200, stop = 2000, num = 10)]\n",
    "max_features = ['auto', 'sqrt']\n",
    "max_depth = [int(x) for x in np.linspace(10, 110, num = 11)]\n",
    "max_depth.append(None)\n",
    "min_samples_split = [2, 5, 10]\n",
    "min_samples_leaf = [1, 2, 4]\n",
    "bootstrap = [True, False]\n",
    "\n",
    "# grid\n",
    "random_grid = {'n_estimators': n_estimators,\n",
    "               'max_features': max_features,\n",
    "               'max_depth': max_depth,\n",
    "               'min_samples_split': min_samples_split,\n",
    "               'min_samples_leaf': min_samples_leaf,\n",
    "               'bootstrap': bootstrap}\n",
    "\n",
    "print(random_grid)"
   ]
  },
  {
   "cell_type": "code",
   "execution_count": null,
   "metadata": {
    "tags": [
     "outputPrepend"
    ]
   },
   "outputs": [],
   "source": [
    "rf = RandomForestClassifier(random_state = 42)\n",
    "# cross valuation using 3 folds\n",
    "rf_random = RandomizedSearchCV(estimator=rf, param_distributions=random_grid,\n",
    "                              n_iter = 100, scoring='accuracy', \n",
    "                              cv = 3, verbose=2, random_state=42, n_jobs=1,\n",
    "                             pre_dispatch= 4,\n",
    "                              return_train_score=True)\n",
    "\n",
    "# Fit\n",
    "rf_random.fit(X_train, y_train)\n",
    "print('Params:',rf_random.best_params_)\n",
    "# selection of the best model and evaluation of the accuracy of the model\n",
    "best_random = rf_random.best_estimator_\n",
    "# making the prediction in the test files\n",
    "y_pred = best_random.predict(X_test)\n",
    "# model accuracy assessment\n",
    "acc_vote = accuracy_score(y_test, y_pred)\n",
    "print(\"Acc: \",acc_vote)"
   ]
  },
  {
   "cell_type": "code",
   "execution_count": null,
   "metadata": {},
   "outputs": [],
   "source": [
    "print(\"AUC:\" ,evaluate(best_random, X_test, y_test))"
   ]
  },
  {
   "cell_type": "code",
   "execution_count": null,
   "metadata": {},
   "outputs": [],
   "source": [
    "#grid search - KNN\n",
    "n_neighbors = [2,3,4,5,6]\n",
    "weights = ['uniform','distance']\n",
    "algorithm = ['auto','ball_tree']\n",
    "leaf_size = [1, 10, 30, 50, 100]\n",
    "\n",
    "# grid\n",
    "kn_grid = {'n_neighbors' : n_neighbors,\n",
    "                'weights': weights,\n",
    "               'algorithm': algorithm,\n",
    "               'leaf_size': leaf_size\n",
    "               }\n",
    "\n",
    "print(kn_grid)"
   ]
  },
  {
   "cell_type": "code",
   "execution_count": null,
   "metadata": {
    "tags": [
     "outputPrepend"
    ]
   },
   "outputs": [],
   "source": [
    "kn = KNeighborsClassifier()\n",
    "# cross valuation using 3 folds\n",
    "kn_random = RandomizedSearchCV(estimator=kn, param_distributions=kn_grid,\n",
    "                              n_iter = 100, scoring='neg_mean_absolute_error', \n",
    "                              cv = 3, verbose=2, random_state=42, n_jobs=1,\n",
    "                              return_train_score=True)\n",
    "\n",
    "# Fit\n",
    "kn_random.fit(X_train, y_train)\n",
    "print('Params:',kn_random.best_params_)\n",
    "# selection of the best model and evaluation of the accuracy of the model\n",
    "best_random = kn_random.best_estimator_\n",
    "# making the prediction in the test files\n",
    "y_pred = best_random.predict(X_test)\n",
    "# model accuracy assessment\n",
    "acc_vote = accuracy_score(y_test, y_pred)\n",
    "print(\"Acc: \",acc_vote)\n"
   ]
  },
  {
   "cell_type": "code",
   "execution_count": null,
   "metadata": {},
   "outputs": [],
   "source": [
    "#grid search - DT\n",
    "criterion = ['gini','entropy']\n",
    "splitter = ['best','random']\n",
    "max_depth = ['None',2,4,6]\n",
    "#min_samples_split =\n",
    "#min_samples_leaf\n",
    "#max_leaf_nodes\n",
    "max_features = ['auto','sqrt','log2']\n",
    "ccp_alpha = [0,2,4,6]\n",
    "\n",
    "# grid\n",
    "dt_grid = {'criterion' : criterion,\n",
    "           'splitter': splitter,\n",
    "           'max_depth': max_depth,\n",
    "           'max_features': max_features,\n",
    "           'ccp_alpha': ccp_alpha\n",
    "               }\n",
    "\n",
    "print(dt_grid)"
   ]
  },
  {
   "cell_type": "code",
   "execution_count": null,
   "metadata": {
    "tags": [
     "outputPrepend"
    ]
   },
   "outputs": [],
   "source": [
    "dt = DecisionTreeClassifier()\n",
    "# cross valuation using 3 folds\n",
    "dt_random = RandomizedSearchCV(estimator=dt, param_distributions=dt_grid,\n",
    "                              n_iter = 100, scoring='neg_mean_absolute_error', \n",
    "                              cv = 3, verbose=2, random_state=42, n_jobs=1,\n",
    "                              return_train_score=True)\n",
    "\n",
    "# Fit\n",
    "dt_random.fit(X_train, y_train)\n",
    "print('Params:',dt_random.best_params_)\n",
    "# selection of the best model and evaluation of the accuracy of the model\n",
    "best_random = dt_random.best_estimator_\n",
    "# making the prediction in the test files\n",
    "y_pred = best_random.predict(X_test)\n",
    "# model accuracy assessment\n",
    "acc_vote = accuracy_score(y_test, y_pred)\n",
    "print(\"Acc: \",acc_vote)\n"
   ]
  },
  {
   "cell_type": "code",
   "execution_count": 179,
   "metadata": {},
   "outputs": [
    {
     "output_type": "stream",
     "name": "stdout",
     "text": [
      "{'criterion': ['gini', 'entropy'], 'splitter': ['best', 'random'], 'max_depth': ['None', 2, 4, 6, 8, 10], 'max_features': ['auto', 'sqrt', 'log2'], 'ccp_alpha': [0, 2, 4, 6]}\n"
     ]
    }
   ],
   "source": [
    "#grid search - svc\n",
    "C = [2,5,7,10]\n",
    "kernel = ['rbf','poly','linear','sigmoid']\n",
    "degree = [1,3,5,7,9]\n",
    "gamma = ['scale','auto',0.1,0.01,0.001]\n",
    "probability = [True,False]\n",
    "coef0 = [0,1,2,3,4]\n",
    "class_weight = [None,'balanced']\n",
    "decision_function_shape = ['ovo','ovr']\n",
    "\n",
    "\n",
    "\n",
    "\n",
    "# grid\n",
    "svc_grid = {'C' : C,\n",
    "            'kernel' : kernel,\n",
    "            'degree' : degree,\n",
    "            'gamma' : gamma,\n",
    "            'probability': probability,\n",
    "            'coef0' : coef0,\n",
    "            'class_weight' : class_weight,\n",
    "            'decision_function_shape' : decision_function_shape\n",
    "               }\n",
    "\n",
    "print(dt_grid)"
   ]
  },
  {
   "cell_type": "code",
   "execution_count": 181,
   "metadata": {
    "tags": [
     "outputPrepend"
    ]
   },
   "outputs": [
    {
     "output_type": "stream",
     "name": "stdout",
     "text": [
      "ernel=sigmoid, probability=False \n",
      "[CV]  C=10, class_weight=balanced, coef0=4, decision_function_shape=ovr, degree=9, gamma=auto, kernel=sigmoid, probability=False, total=   0.0s\n",
      "[CV] C=10, class_weight=balanced, coef0=4, decision_function_shape=ovr, degree=9, gamma=auto, kernel=sigmoid, probability=False \n",
      "[CV]  C=10, class_weight=balanced, coef0=4, decision_function_shape=ovr, degree=9, gamma=auto, kernel=sigmoid, probability=False, total=   0.0s\n",
      "[CV] C=10, class_weight=balanced, coef0=4, decision_function_shape=ovr, degree=9, gamma=0.1, kernel=rbf, probability=True \n",
      "[CV]  C=10, class_weight=balanced, coef0=4, decision_function_shape=ovr, degree=9, gamma=0.1, kernel=rbf, probability=True, total=   0.0s\n",
      "[CV] C=10, class_weight=balanced, coef0=4, decision_function_shape=ovr, degree=9, gamma=0.1, kernel=rbf, probability=True \n",
      "[CV]  C=10, class_weight=balanced, coef0=4, decision_function_shape=ovr, degree=9, gamma=0.1, kernel=rbf, probability=True, total=   0.0s\n",
      "[CV] C=10, class_weight=balanced, coef0=4, decision_function_shape=ovr, degree=9, gamma=0.1, kernel=rbf, probability=True \n",
      "[CV]  C=10, class_weight=balanced, coef0=4, decision_function_shape=ovr, degree=9, gamma=0.1, kernel=rbf, probability=True, total=   0.0s\n",
      "[CV] C=10, class_weight=balanced, coef0=4, decision_function_shape=ovr, degree=9, gamma=0.1, kernel=rbf, probability=False \n",
      "[CV]  C=10, class_weight=balanced, coef0=4, decision_function_shape=ovr, degree=9, gamma=0.1, kernel=rbf, probability=False, total=   0.0s\n",
      "[CV] C=10, class_weight=balanced, coef0=4, decision_function_shape=ovr, degree=9, gamma=0.1, kernel=rbf, probability=False \n",
      "[CV]  C=10, class_weight=balanced, coef0=4, decision_function_shape=ovr, degree=9, gamma=0.1, kernel=rbf, probability=False, total=   0.0s\n",
      "[CV] C=10, class_weight=balanced, coef0=4, decision_function_shape=ovr, degree=9, gamma=0.1, kernel=rbf, probability=False \n",
      "[CV]  C=10, class_weight=balanced, coef0=4, decision_function_shape=ovr, degree=9, gamma=0.1, kernel=rbf, probability=False, total=   0.0s\n",
      "[CV] C=10, class_weight=balanced, coef0=4, decision_function_shape=ovr, degree=9, gamma=0.1, kernel=poly, probability=True \n",
      "[CV]  C=10, class_weight=balanced, coef0=4, decision_function_shape=ovr, degree=9, gamma=0.1, kernel=poly, probability=True, total=   0.0s\n",
      "[CV] C=10, class_weight=balanced, coef0=4, decision_function_shape=ovr, degree=9, gamma=0.1, kernel=poly, probability=True \n",
      "[CV]  C=10, class_weight=balanced, coef0=4, decision_function_shape=ovr, degree=9, gamma=0.1, kernel=poly, probability=True, total=   0.0s\n",
      "[CV] C=10, class_weight=balanced, coef0=4, decision_function_shape=ovr, degree=9, gamma=0.1, kernel=poly, probability=True \n",
      "[CV]  C=10, class_weight=balanced, coef0=4, decision_function_shape=ovr, degree=9, gamma=0.1, kernel=poly, probability=True, total=   0.0s\n",
      "[CV] C=10, class_weight=balanced, coef0=4, decision_function_shape=ovr, degree=9, gamma=0.1, kernel=poly, probability=False \n",
      "[CV]  C=10, class_weight=balanced, coef0=4, decision_function_shape=ovr, degree=9, gamma=0.1, kernel=poly, probability=False, total=   0.0s\n",
      "[CV] C=10, class_weight=balanced, coef0=4, decision_function_shape=ovr, degree=9, gamma=0.1, kernel=poly, probability=False \n",
      "[CV]  C=10, class_weight=balanced, coef0=4, decision_function_shape=ovr, degree=9, gamma=0.1, kernel=poly, probability=False, total=   0.0s\n",
      "[CV] C=10, class_weight=balanced, coef0=4, decision_function_shape=ovr, degree=9, gamma=0.1, kernel=poly, probability=False \n",
      "[CV]  C=10, class_weight=balanced, coef0=4, decision_function_shape=ovr, degree=9, gamma=0.1, kernel=poly, probability=False, total=   0.0s\n",
      "[CV] C=10, class_weight=balanced, coef0=4, decision_function_shape=ovr, degree=9, gamma=0.1, kernel=linear, probability=True \n",
      "[CV]  C=10, class_weight=balanced, coef0=4, decision_function_shape=ovr, degree=9, gamma=0.1, kernel=linear, probability=True, total=   0.0s\n",
      "[CV] C=10, class_weight=balanced, coef0=4, decision_function_shape=ovr, degree=9, gamma=0.1, kernel=linear, probability=True \n",
      "[CV]  C=10, class_weight=balanced, coef0=4, decision_function_shape=ovr, degree=9, gamma=0.1, kernel=linear, probability=True, total=   0.0s\n",
      "[CV] C=10, class_weight=balanced, coef0=4, decision_function_shape=ovr, degree=9, gamma=0.1, kernel=linear, probability=True \n",
      "[CV]  C=10, class_weight=balanced, coef0=4, decision_function_shape=ovr, degree=9, gamma=0.1, kernel=linear, probability=True, total=   0.0s\n",
      "[CV] C=10, class_weight=balanced, coef0=4, decision_function_shape=ovr, degree=9, gamma=0.1, kernel=linear, probability=False \n",
      "[CV]  C=10, class_weight=balanced, coef0=4, decision_function_shape=ovr, degree=9, gamma=0.1, kernel=linear, probability=False, total=   0.0s\n",
      "[CV] C=10, class_weight=balanced, coef0=4, decision_function_shape=ovr, degree=9, gamma=0.1, kernel=linear, probability=False \n",
      "[CV]  C=10, class_weight=balanced, coef0=4, decision_function_shape=ovr, degree=9, gamma=0.1, kernel=linear, probability=False, total=   0.0s\n",
      "[CV] C=10, class_weight=balanced, coef0=4, decision_function_shape=ovr, degree=9, gamma=0.1, kernel=linear, probability=False \n",
      "[CV]  C=10, class_weight=balanced, coef0=4, decision_function_shape=ovr, degree=9, gamma=0.1, kernel=linear, probability=False, total=   0.0s\n",
      "[CV] C=10, class_weight=balanced, coef0=4, decision_function_shape=ovr, degree=9, gamma=0.1, kernel=sigmoid, probability=True \n",
      "[CV]  C=10, class_weight=balanced, coef0=4, decision_function_shape=ovr, degree=9, gamma=0.1, kernel=sigmoid, probability=True, total=   0.0s\n",
      "[CV] C=10, class_weight=balanced, coef0=4, decision_function_shape=ovr, degree=9, gamma=0.1, kernel=sigmoid, probability=True \n",
      "[CV]  C=10, class_weight=balanced, coef0=4, decision_function_shape=ovr, degree=9, gamma=0.1, kernel=sigmoid, probability=True, total=   0.0s\n",
      "[CV] C=10, class_weight=balanced, coef0=4, decision_function_shape=ovr, degree=9, gamma=0.1, kernel=sigmoid, probability=True \n",
      "[CV]  C=10, class_weight=balanced, coef0=4, decision_function_shape=ovr, degree=9, gamma=0.1, kernel=sigmoid, probability=True, total=   0.0s\n",
      "[CV] C=10, class_weight=balanced, coef0=4, decision_function_shape=ovr, degree=9, gamma=0.1, kernel=sigmoid, probability=False \n",
      "[CV]  C=10, class_weight=balanced, coef0=4, decision_function_shape=ovr, degree=9, gamma=0.1, kernel=sigmoid, probability=False, total=   0.0s\n",
      "[CV] C=10, class_weight=balanced, coef0=4, decision_function_shape=ovr, degree=9, gamma=0.1, kernel=sigmoid, probability=False \n",
      "[CV]  C=10, class_weight=balanced, coef0=4, decision_function_shape=ovr, degree=9, gamma=0.1, kernel=sigmoid, probability=False, total=   0.0s\n",
      "[CV] C=10, class_weight=balanced, coef0=4, decision_function_shape=ovr, degree=9, gamma=0.1, kernel=sigmoid, probability=False \n",
      "[CV]  C=10, class_weight=balanced, coef0=4, decision_function_shape=ovr, degree=9, gamma=0.1, kernel=sigmoid, probability=False, total=   0.0s\n",
      "[CV] C=10, class_weight=balanced, coef0=4, decision_function_shape=ovr, degree=9, gamma=0.01, kernel=rbf, probability=True \n",
      "[CV]  C=10, class_weight=balanced, coef0=4, decision_function_shape=ovr, degree=9, gamma=0.01, kernel=rbf, probability=True, total=   0.0s\n",
      "[CV] C=10, class_weight=balanced, coef0=4, decision_function_shape=ovr, degree=9, gamma=0.01, kernel=rbf, probability=True \n",
      "[CV]  C=10, class_weight=balanced, coef0=4, decision_function_shape=ovr, degree=9, gamma=0.01, kernel=rbf, probability=True, total=   0.0s\n",
      "[CV] C=10, class_weight=balanced, coef0=4, decision_function_shape=ovr, degree=9, gamma=0.01, kernel=rbf, probability=True \n",
      "[CV]  C=10, class_weight=balanced, coef0=4, decision_function_shape=ovr, degree=9, gamma=0.01, kernel=rbf, probability=True, total=   0.0s\n",
      "[CV] C=10, class_weight=balanced, coef0=4, decision_function_shape=ovr, degree=9, gamma=0.01, kernel=rbf, probability=False \n",
      "[CV]  C=10, class_weight=balanced, coef0=4, decision_function_shape=ovr, degree=9, gamma=0.01, kernel=rbf, probability=False, total=   0.0s\n",
      "[CV] C=10, class_weight=balanced, coef0=4, decision_function_shape=ovr, degree=9, gamma=0.01, kernel=rbf, probability=False \n",
      "[CV]  C=10, class_weight=balanced, coef0=4, decision_function_shape=ovr, degree=9, gamma=0.01, kernel=rbf, probability=False, total=   0.0s\n",
      "[CV] C=10, class_weight=balanced, coef0=4, decision_function_shape=ovr, degree=9, gamma=0.01, kernel=rbf, probability=False \n",
      "[CV]  C=10, class_weight=balanced, coef0=4, decision_function_shape=ovr, degree=9, gamma=0.01, kernel=rbf, probability=False, total=   0.0s\n",
      "[CV] C=10, class_weight=balanced, coef0=4, decision_function_shape=ovr, degree=9, gamma=0.01, kernel=poly, probability=True \n",
      "[CV]  C=10, class_weight=balanced, coef0=4, decision_function_shape=ovr, degree=9, gamma=0.01, kernel=poly, probability=True, total=   0.0s\n",
      "[CV] C=10, class_weight=balanced, coef0=4, decision_function_shape=ovr, degree=9, gamma=0.01, kernel=poly, probability=True \n",
      "[CV]  C=10, class_weight=balanced, coef0=4, decision_function_shape=ovr, degree=9, gamma=0.01, kernel=poly, probability=True, total=   0.0s\n",
      "[CV] C=10, class_weight=balanced, coef0=4, decision_function_shape=ovr, degree=9, gamma=0.01, kernel=poly, probability=True \n",
      "[CV]  C=10, class_weight=balanced, coef0=4, decision_function_shape=ovr, degree=9, gamma=0.01, kernel=poly, probability=True, total=   0.0s\n",
      "[CV] C=10, class_weight=balanced, coef0=4, decision_function_shape=ovr, degree=9, gamma=0.01, kernel=poly, probability=False \n",
      "[CV]  C=10, class_weight=balanced, coef0=4, decision_function_shape=ovr, degree=9, gamma=0.01, kernel=poly, probability=False, total=   0.0s\n",
      "[CV] C=10, class_weight=balanced, coef0=4, decision_function_shape=ovr, degree=9, gamma=0.01, kernel=poly, probability=False \n",
      "[CV]  C=10, class_weight=balanced, coef0=4, decision_function_shape=ovr, degree=9, gamma=0.01, kernel=poly, probability=False, total=   0.0s\n",
      "[CV] C=10, class_weight=balanced, coef0=4, decision_function_shape=ovr, degree=9, gamma=0.01, kernel=poly, probability=False \n",
      "[CV]  C=10, class_weight=balanced, coef0=4, decision_function_shape=ovr, degree=9, gamma=0.01, kernel=poly, probability=False, total=   0.0s\n",
      "[CV] C=10, class_weight=balanced, coef0=4, decision_function_shape=ovr, degree=9, gamma=0.01, kernel=linear, probability=True \n",
      "[CV]  C=10, class_weight=balanced, coef0=4, decision_function_shape=ovr, degree=9, gamma=0.01, kernel=linear, probability=True, total=   0.0s\n",
      "[CV] C=10, class_weight=balanced, coef0=4, decision_function_shape=ovr, degree=9, gamma=0.01, kernel=linear, probability=True \n",
      "[CV]  C=10, class_weight=balanced, coef0=4, decision_function_shape=ovr, degree=9, gamma=0.01, kernel=linear, probability=True, total=   0.0s\n",
      "[CV] C=10, class_weight=balanced, coef0=4, decision_function_shape=ovr, degree=9, gamma=0.01, kernel=linear, probability=True \n",
      "[CV]  C=10, class_weight=balanced, coef0=4, decision_function_shape=ovr, degree=9, gamma=0.01, kernel=linear, probability=True, total=   0.0s\n",
      "[CV] C=10, class_weight=balanced, coef0=4, decision_function_shape=ovr, degree=9, gamma=0.01, kernel=linear, probability=False \n",
      "[CV]  C=10, class_weight=balanced, coef0=4, decision_function_shape=ovr, degree=9, gamma=0.01, kernel=linear, probability=False, total=   0.0s\n",
      "[CV] C=10, class_weight=balanced, coef0=4, decision_function_shape=ovr, degree=9, gamma=0.01, kernel=linear, probability=False \n",
      "[CV]  C=10, class_weight=balanced, coef0=4, decision_function_shape=ovr, degree=9, gamma=0.01, kernel=linear, probability=False, total=   0.0s\n",
      "[CV] C=10, class_weight=balanced, coef0=4, decision_function_shape=ovr, degree=9, gamma=0.01, kernel=linear, probability=False \n",
      "[CV]  C=10, class_weight=balanced, coef0=4, decision_function_shape=ovr, degree=9, gamma=0.01, kernel=linear, probability=False, total=   0.0s\n",
      "[CV] C=10, class_weight=balanced, coef0=4, decision_function_shape=ovr, degree=9, gamma=0.01, kernel=sigmoid, probability=True \n",
      "[CV]  C=10, class_weight=balanced, coef0=4, decision_function_shape=ovr, degree=9, gamma=0.01, kernel=sigmoid, probability=True, total=   0.0s\n",
      "[CV] C=10, class_weight=balanced, coef0=4, decision_function_shape=ovr, degree=9, gamma=0.01, kernel=sigmoid, probability=True \n",
      "[CV]  C=10, class_weight=balanced, coef0=4, decision_function_shape=ovr, degree=9, gamma=0.01, kernel=sigmoid, probability=True, total=   0.0s\n",
      "[CV] C=10, class_weight=balanced, coef0=4, decision_function_shape=ovr, degree=9, gamma=0.01, kernel=sigmoid, probability=True \n",
      "[CV]  C=10, class_weight=balanced, coef0=4, decision_function_shape=ovr, degree=9, gamma=0.01, kernel=sigmoid, probability=True, total=   0.0s\n",
      "[CV] C=10, class_weight=balanced, coef0=4, decision_function_shape=ovr, degree=9, gamma=0.01, kernel=sigmoid, probability=False \n",
      "[CV]  C=10, class_weight=balanced, coef0=4, decision_function_shape=ovr, degree=9, gamma=0.01, kernel=sigmoid, probability=False, total=   0.0s\n",
      "[CV] C=10, class_weight=balanced, coef0=4, decision_function_shape=ovr, degree=9, gamma=0.01, kernel=sigmoid, probability=False \n",
      "[CV]  C=10, class_weight=balanced, coef0=4, decision_function_shape=ovr, degree=9, gamma=0.01, kernel=sigmoid, probability=False, total=   0.0s\n",
      "[CV] C=10, class_weight=balanced, coef0=4, decision_function_shape=ovr, degree=9, gamma=0.01, kernel=sigmoid, probability=False \n",
      "[CV]  C=10, class_weight=balanced, coef0=4, decision_function_shape=ovr, degree=9, gamma=0.01, kernel=sigmoid, probability=False, total=   0.0s\n",
      "[CV] C=10, class_weight=balanced, coef0=4, decision_function_shape=ovr, degree=9, gamma=0.001, kernel=rbf, probability=True \n",
      "[CV]  C=10, class_weight=balanced, coef0=4, decision_function_shape=ovr, degree=9, gamma=0.001, kernel=rbf, probability=True, total=   0.0s\n",
      "[CV] C=10, class_weight=balanced, coef0=4, decision_function_shape=ovr, degree=9, gamma=0.001, kernel=rbf, probability=True \n",
      "[CV]  C=10, class_weight=balanced, coef0=4, decision_function_shape=ovr, degree=9, gamma=0.001, kernel=rbf, probability=True, total=   0.0s\n",
      "[CV] C=10, class_weight=balanced, coef0=4, decision_function_shape=ovr, degree=9, gamma=0.001, kernel=rbf, probability=True \n",
      "[CV]  C=10, class_weight=balanced, coef0=4, decision_function_shape=ovr, degree=9, gamma=0.001, kernel=rbf, probability=True, total=   0.0s\n",
      "[CV] C=10, class_weight=balanced, coef0=4, decision_function_shape=ovr, degree=9, gamma=0.001, kernel=rbf, probability=False \n",
      "[CV]  C=10, class_weight=balanced, coef0=4, decision_function_shape=ovr, degree=9, gamma=0.001, kernel=rbf, probability=False, total=   0.0s\n",
      "[CV] C=10, class_weight=balanced, coef0=4, decision_function_shape=ovr, degree=9, gamma=0.001, kernel=rbf, probability=False \n",
      "[CV]  C=10, class_weight=balanced, coef0=4, decision_function_shape=ovr, degree=9, gamma=0.001, kernel=rbf, probability=False, total=   0.0s\n",
      "[CV] C=10, class_weight=balanced, coef0=4, decision_function_shape=ovr, degree=9, gamma=0.001, kernel=rbf, probability=False \n",
      "[CV]  C=10, class_weight=balanced, coef0=4, decision_function_shape=ovr, degree=9, gamma=0.001, kernel=rbf, probability=False, total=   0.0s\n",
      "[CV] C=10, class_weight=balanced, coef0=4, decision_function_shape=ovr, degree=9, gamma=0.001, kernel=poly, probability=True \n",
      "[CV]  C=10, class_weight=balanced, coef0=4, decision_function_shape=ovr, degree=9, gamma=0.001, kernel=poly, probability=True, total=   0.0s\n",
      "[CV] C=10, class_weight=balanced, coef0=4, decision_function_shape=ovr, degree=9, gamma=0.001, kernel=poly, probability=True \n",
      "[CV]  C=10, class_weight=balanced, coef0=4, decision_function_shape=ovr, degree=9, gamma=0.001, kernel=poly, probability=True, total=   0.0s\n",
      "[CV] C=10, class_weight=balanced, coef0=4, decision_function_shape=ovr, degree=9, gamma=0.001, kernel=poly, probability=True \n",
      "[CV]  C=10, class_weight=balanced, coef0=4, decision_function_shape=ovr, degree=9, gamma=0.001, kernel=poly, probability=True, total=   0.0s\n",
      "[CV] C=10, class_weight=balanced, coef0=4, decision_function_shape=ovr, degree=9, gamma=0.001, kernel=poly, probability=False \n",
      "[CV]  C=10, class_weight=balanced, coef0=4, decision_function_shape=ovr, degree=9, gamma=0.001, kernel=poly, probability=False, total=   0.0s\n",
      "[CV] C=10, class_weight=balanced, coef0=4, decision_function_shape=ovr, degree=9, gamma=0.001, kernel=poly, probability=False \n",
      "[CV]  C=10, class_weight=balanced, coef0=4, decision_function_shape=ovr, degree=9, gamma=0.001, kernel=poly, probability=False, total=   0.0s\n",
      "[CV] C=10, class_weight=balanced, coef0=4, decision_function_shape=ovr, degree=9, gamma=0.001, kernel=poly, probability=False \n",
      "[CV]  C=10, class_weight=balanced, coef0=4, decision_function_shape=ovr, degree=9, gamma=0.001, kernel=poly, probability=False, total=   0.0s\n",
      "[CV] C=10, class_weight=balanced, coef0=4, decision_function_shape=ovr, degree=9, gamma=0.001, kernel=linear, probability=True \n",
      "[CV]  C=10, class_weight=balanced, coef0=4, decision_function_shape=ovr, degree=9, gamma=0.001, kernel=linear, probability=True, total=   0.0s\n",
      "[CV] C=10, class_weight=balanced, coef0=4, decision_function_shape=ovr, degree=9, gamma=0.001, kernel=linear, probability=True \n",
      "[CV]  C=10, class_weight=balanced, coef0=4, decision_function_shape=ovr, degree=9, gamma=0.001, kernel=linear, probability=True, total=   0.0s\n",
      "[CV] C=10, class_weight=balanced, coef0=4, decision_function_shape=ovr, degree=9, gamma=0.001, kernel=linear, probability=True \n",
      "[CV]  C=10, class_weight=balanced, coef0=4, decision_function_shape=ovr, degree=9, gamma=0.001, kernel=linear, probability=True, total=   0.0s\n",
      "[CV] C=10, class_weight=balanced, coef0=4, decision_function_shape=ovr, degree=9, gamma=0.001, kernel=linear, probability=False \n",
      "[CV]  C=10, class_weight=balanced, coef0=4, decision_function_shape=ovr, degree=9, gamma=0.001, kernel=linear, probability=False, total=   0.0s\n",
      "[CV] C=10, class_weight=balanced, coef0=4, decision_function_shape=ovr, degree=9, gamma=0.001, kernel=linear, probability=False \n",
      "[CV]  C=10, class_weight=balanced, coef0=4, decision_function_shape=ovr, degree=9, gamma=0.001, kernel=linear, probability=False, total=   0.0s\n",
      "[CV] C=10, class_weight=balanced, coef0=4, decision_function_shape=ovr, degree=9, gamma=0.001, kernel=linear, probability=False \n",
      "[CV]  C=10, class_weight=balanced, coef0=4, decision_function_shape=ovr, degree=9, gamma=0.001, kernel=linear, probability=False, total=   0.0s\n",
      "[CV] C=10, class_weight=balanced, coef0=4, decision_function_shape=ovr, degree=9, gamma=0.001, kernel=sigmoid, probability=True \n",
      "[CV]  C=10, class_weight=balanced, coef0=4, decision_function_shape=ovr, degree=9, gamma=0.001, kernel=sigmoid, probability=True, total=   0.0s\n",
      "[CV] C=10, class_weight=balanced, coef0=4, decision_function_shape=ovr, degree=9, gamma=0.001, kernel=sigmoid, probability=True \n",
      "[CV]  C=10, class_weight=balanced, coef0=4, decision_function_shape=ovr, degree=9, gamma=0.001, kernel=sigmoid, probability=True, total=   0.0s\n",
      "[CV] C=10, class_weight=balanced, coef0=4, decision_function_shape=ovr, degree=9, gamma=0.001, kernel=sigmoid, probability=True \n",
      "[CV]  C=10, class_weight=balanced, coef0=4, decision_function_shape=ovr, degree=9, gamma=0.001, kernel=sigmoid, probability=True, total=   0.0s\n",
      "[CV] C=10, class_weight=balanced, coef0=4, decision_function_shape=ovr, degree=9, gamma=0.001, kernel=sigmoid, probability=False \n",
      "[CV]  C=10, class_weight=balanced, coef0=4, decision_function_shape=ovr, degree=9, gamma=0.001, kernel=sigmoid, probability=False, total=   0.0s\n",
      "[CV] C=10, class_weight=balanced, coef0=4, decision_function_shape=ovr, degree=9, gamma=0.001, kernel=sigmoid, probability=False \n",
      "[CV]  C=10, class_weight=balanced, coef0=4, decision_function_shape=ovr, degree=9, gamma=0.001, kernel=sigmoid, probability=False, total=   0.0s\n",
      "[CV] C=10, class_weight=balanced, coef0=4, decision_function_shape=ovr, degree=9, gamma=0.001, kernel=sigmoid, probability=False \n",
      "[CV]  C=10, class_weight=balanced, coef0=4, decision_function_shape=ovr, degree=9, gamma=0.001, kernel=sigmoid, probability=False, total=   0.0s\n",
      "[Parallel(n_jobs=1)]: Done 48000 out of 48000 | elapsed:  1.7min finished\n",
      "Params: {'C': 2, 'class_weight': None, 'coef0': 1, 'decision_function_shape': 'ovo', 'degree': 3, 'gamma': 'auto', 'kernel': 'poly', 'probability': True}\n",
      "Acc:  0.9393939393939394\n"
     ]
    }
   ],
   "source": [
    "svc = SVC()\n",
    "# cross valuation using 3 folds\n",
    "svc_random = GridSearchCV(estimator=svc, param_grid=svc_grid, scoring='accuracy', \n",
    "                              cv = 3, verbose=2,n_jobs=1,\n",
    "                              return_train_score=True)\n",
    "\n",
    "# Fit\n",
    "svc_random.fit(X_train, y_train)\n",
    "print('Params:',svc_random.best_params_)\n",
    "# selection of the best model and evaluation of the accuracy of the model\n",
    "best_random = svc_random.best_estimator_\n",
    "# making the prediction in the test files\n",
    "y_pred = best_random.predict(X_test)\n",
    "# model accuracy assessment\n",
    "acc_vote = accuracy_score(y_test, y_pred)\n",
    "print(\"Acc: \",acc_vote)\n"
   ]
  },
  {
   "cell_type": "code",
   "execution_count": 118,
   "metadata": {},
   "outputs": [],
   "source": [
    "df_na = df.dropna()\n",
    "y = df_na['class'].values\n",
    "X = df_na.drop('class', axis=1).values\n",
    "\n",
    "\n",
    "X_train, X_test, y_train, y_test = train_test_split(X, y, test_size=0.3, random_state=21, stratify=y)"
   ]
  },
  {
   "cell_type": "code",
   "execution_count": 120,
   "metadata": {},
   "outputs": [],
   "source": [
    "df_imp = df\n",
    "y = df_imp['class'].values\n",
    "X = df_imp.drop('class', axis=1).values\n",
    "\n",
    "\n",
    "imp = SimpleImputer(strategy=\"most_frequent\")\n",
    "X = imp.fit_transform(X)\n",
    "\n",
    "X_train, X_test, y_train, y_test = train_test_split(X, y, test_size=0.3, random_state=21, stratify=y)"
   ]
  },
  {
   "cell_type": "code",
   "execution_count": 211,
   "metadata": {},
   "outputs": [
    {
     "output_type": "stream",
     "name": "stdout",
     "text": [
      "Acc:  0.9696969696969697\n"
     ]
    }
   ],
   "source": [
    "# SVC\n",
    "svc = SVC(probability=True,kernel=\"rbf\",gamma='scale',decision_function_shape='ovo',C=3)\n",
    "svc.fit(X_train, y_train)\n",
    "y_pred = svc.predict(X_test)\n",
    "acc_vote = accuracy_score(y_test, y_pred)\n",
    "print(\"Acc: \",acc_vote)"
   ]
  }
 ]
}